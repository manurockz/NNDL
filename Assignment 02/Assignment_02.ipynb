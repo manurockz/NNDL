{
  "nbformat": 4,
  "nbformat_minor": 0,
  "metadata": {
    "colab": {
      "name": "Assignment 02.ipynb",
      "provenance": []
    },
    "kernelspec": {
      "name": "python3",
      "display_name": "Python 3"
    }
  },
  "cells": [
    {
      "cell_type": "code",
      "metadata": {
        "id": "9CJQXSv4awvj"
      },
      "source": [
        "# STEP 1: initialising varibles\r\n",
        "x = -1\r\n",
        "y = 1\r\n",
        "epochs = 100\r\n",
        "alpha = 0.1"
      ],
      "execution_count": 15,
      "outputs": []
    },
    {
      "cell_type": "code",
      "metadata": {
        "id": "spntdAuaa6vk"
      },
      "source": [
        "# function to calculate derivation of x\r\n",
        "def der_x(x):\r\n",
        "  val = 2*x\r\n",
        "  return val"
      ],
      "execution_count": 16,
      "outputs": []
    },
    {
      "cell_type": "code",
      "metadata": {
        "id": "AZu8a3uLbRjC"
      },
      "source": [
        "# function to calculate derivation of y\r\n",
        "def der_y(y):\r\n",
        "  val = 2*y\r\n",
        "  return val"
      ],
      "execution_count": 17,
      "outputs": []
    },
    {
      "cell_type": "code",
      "metadata": {
        "id": "1Q2JZ6Lvbawp"
      },
      "source": [
        "# STEP 2:initialising number of current iteration to 1\r\n",
        "iter = 1\r\n"
      ],
      "execution_count": 18,
      "outputs": []
    },
    {
      "cell_type": "code",
      "metadata": {
        "id": "HZNbanhgbddj"
      },
      "source": [
        "# STEP 3: implementing Descent code\r\n",
        "while (iter<=epochs):\r\n",
        "  df_dx = der_x(x)\r\n",
        "  df_dy = der_y(y)\r\n",
        "\r\n",
        "  # STEP 4: calculating change in x and y\r\n",
        "  change_x = (-1)*alpha*df_dx\r\n",
        "  change_y = (-1)*alpha*df_dy\r\n",
        "\r\n",
        "  # STEP 5: updating model parameters x and y\r\n",
        "  x = x + change_x\r\n",
        "  y = y + change_y\r\n",
        "\r\n",
        "  # STEP 6: incrementing no of iterations\r\n",
        "  iter = iter + 1\r\n",
        "\r\n",
        "  "
      ],
      "execution_count": 19,
      "outputs": []
    },
    {
      "cell_type": "code",
      "metadata": {
        "colab": {
          "base_uri": "https://localhost:8080/"
        },
        "id": "Ja4Oam16cCCv",
        "outputId": "00e2bd89-21aa-4745-e56b-95c9ebb95dd1"
      },
      "source": [
        "# STEP 7: printing m and c (GLOBAL MIN POINT)\r\n",
        "print(x,y)"
      ],
      "execution_count": 20,
      "outputs": [
        {
          "output_type": "stream",
          "text": [
            "-2.0370359763344877e-10 2.0370359763344877e-10\n"
          ],
          "name": "stdout"
        }
      ]
    },
    {
      "cell_type": "code",
      "metadata": {
        "id": "FJSuzSvEcDec"
      },
      "source": [
        "# function to predict f(x)\r\n",
        "def f(x,y):\r\n",
        "  val = (x**2)+(y**2)+10\r\n",
        "  return val"
      ],
      "execution_count": 21,
      "outputs": []
    },
    {
      "cell_type": "code",
      "metadata": {
        "colab": {
          "base_uri": "https://localhost:8080/"
        },
        "id": "zdywl4DScJyx",
        "outputId": "71e3a5f8-62da-40b6-9c0c-279cb36eb73a"
      },
      "source": [
        "# printing global minimum value for given f(X,y) function or curve\r\n",
        "print(f(x,y))"
      ],
      "execution_count": 22,
      "outputs": [
        {
          "output_type": "stream",
          "text": [
            "10.0\n"
          ],
          "name": "stdout"
        }
      ]
    },
    {
      "cell_type": "markdown",
      "metadata": {
        "id": "nHC2uks_dAhv"
      },
      "source": [
        ""
      ]
    },
    {
      "cell_type": "markdown",
      "metadata": {
        "id": "acBwqhtfcRt-"
      },
      "source": [
        "Global minimum value optained at 10"
      ]
    }
  ]
}