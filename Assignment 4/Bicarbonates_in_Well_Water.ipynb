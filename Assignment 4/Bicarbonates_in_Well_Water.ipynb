{
  "nbformat": 4,
  "nbformat_minor": 0,
  "metadata": {
    "colab": {
      "name": "Bicarbonates in Well Water.ipynb",
      "provenance": [],
      "collapsed_sections": [],
      "toc_visible": true
    },
    "kernelspec": {
      "name": "python3",
      "display_name": "Python 3"
    }
  },
  "cells": [
    {
      "cell_type": "code",
      "metadata": {
        "id": "cx8erWUaZQQd"
      },
      "source": [
        ""
      ],
      "execution_count": 212,
      "outputs": []
    },
    {
      "cell_type": "markdown",
      "metadata": {
        "id": "Tlc6JOKUZNue"
      },
      "source": [
        "\r\n",
        "\r\n",
        "## ***STOCHASTIC GRADIENT DESCENT***\r\n",
        "\r\n",
        "---\r\n",
        "\r\n",
        "\r\n",
        "\r\n",
        "\r\n",
        "\r\n"
      ]
    },
    {
      "cell_type": "code",
      "metadata": {
        "id": "w22X5gKZ4JO9"
      },
      "source": [
        "import numpy as np\r\n",
        "import matplotlib.pyplot as plt\r\n",
        "import pandas as pd\r\n",
        "from sklearn.preprocessing import minmax_scale\r\n",
        "from sklearn.model_selection import train_test_split\r\n",
        "import seaborn as sns"
      ],
      "execution_count": 213,
      "outputs": []
    },
    {
      "cell_type": "markdown",
      "metadata": {
        "id": "ROp75W3S5qfG"
      },
      "source": [
        "## Read the data set"
      ]
    },
    {
      "cell_type": "code",
      "metadata": {
        "colab": {
          "base_uri": "https://localhost:8080/",
          "height": 202
        },
        "id": "VXyo98Jt4yBC",
        "outputId": "a6fabe0a-10a0-4a64-c107-5980cb97a33a"
      },
      "source": [
        "data = pd.read_csv('Ph.csv')\r\n",
        "data.head()"
      ],
      "execution_count": 214,
      "outputs": [
        {
          "output_type": "execute_result",
          "data": {
            "text/html": [
              "<div>\n",
              "<style scoped>\n",
              "    .dataframe tbody tr th:only-of-type {\n",
              "        vertical-align: middle;\n",
              "    }\n",
              "\n",
              "    .dataframe tbody tr th {\n",
              "        vertical-align: top;\n",
              "    }\n",
              "\n",
              "    .dataframe thead th {\n",
              "        text-align: right;\n",
              "    }\n",
              "</style>\n",
              "<table border=\"1\" class=\"dataframe\">\n",
              "  <thead>\n",
              "    <tr style=\"text-align: right;\">\n",
              "      <th></th>\n",
              "      <th>X</th>\n",
              "      <th>Y</th>\n",
              "    </tr>\n",
              "  </thead>\n",
              "  <tbody>\n",
              "    <tr>\n",
              "      <th>0</th>\n",
              "      <td>7.6</td>\n",
              "      <td>157</td>\n",
              "    </tr>\n",
              "    <tr>\n",
              "      <th>1</th>\n",
              "      <td>7.1</td>\n",
              "      <td>174</td>\n",
              "    </tr>\n",
              "    <tr>\n",
              "      <th>2</th>\n",
              "      <td>8.2</td>\n",
              "      <td>175</td>\n",
              "    </tr>\n",
              "    <tr>\n",
              "      <th>3</th>\n",
              "      <td>7.5</td>\n",
              "      <td>188</td>\n",
              "    </tr>\n",
              "    <tr>\n",
              "      <th>4</th>\n",
              "      <td>7.4</td>\n",
              "      <td>171</td>\n",
              "    </tr>\n",
              "  </tbody>\n",
              "</table>\n",
              "</div>"
            ],
            "text/plain": [
              "     X    Y\n",
              "0  7.6  157\n",
              "1  7.1  174\n",
              "2  8.2  175\n",
              "3  7.5  188\n",
              "4  7.4  171"
            ]
          },
          "metadata": {
            "tags": []
          },
          "execution_count": 214
        }
      ]
    },
    {
      "cell_type": "markdown",
      "metadata": {
        "id": "-l3P6PJI6xph"
      },
      "source": [
        "## <b> Analysing the Data Set</b>"
      ]
    },
    {
      "cell_type": "code",
      "metadata": {
        "colab": {
          "base_uri": "https://localhost:8080/"
        },
        "id": "rwIPrCAs6wXl",
        "outputId": "0be50f5d-214b-4fc4-dc17-6b1b6b6cf54a"
      },
      "source": [
        "data.info()"
      ],
      "execution_count": 215,
      "outputs": [
        {
          "output_type": "stream",
          "text": [
            "<class 'pandas.core.frame.DataFrame'>\n",
            "RangeIndex: 34 entries, 0 to 33\n",
            "Data columns (total 2 columns):\n",
            " #   Column  Non-Null Count  Dtype  \n",
            "---  ------  --------------  -----  \n",
            " 0   X       34 non-null     float64\n",
            " 1   Y       34 non-null     int64  \n",
            "dtypes: float64(1), int64(1)\n",
            "memory usage: 672.0 bytes\n"
          ],
          "name": "stdout"
        }
      ]
    },
    {
      "cell_type": "code",
      "metadata": {
        "colab": {
          "base_uri": "https://localhost:8080/",
          "height": 294
        },
        "id": "v0-X7JuZ50zU",
        "outputId": "79239385-633d-4581-e1a1-6dd3afaf4c66"
      },
      "source": [
        "data.describe()"
      ],
      "execution_count": 216,
      "outputs": [
        {
          "output_type": "execute_result",
          "data": {
            "text/html": [
              "<div>\n",
              "<style scoped>\n",
              "    .dataframe tbody tr th:only-of-type {\n",
              "        vertical-align: middle;\n",
              "    }\n",
              "\n",
              "    .dataframe tbody tr th {\n",
              "        vertical-align: top;\n",
              "    }\n",
              "\n",
              "    .dataframe thead th {\n",
              "        text-align: right;\n",
              "    }\n",
              "</style>\n",
              "<table border=\"1\" class=\"dataframe\">\n",
              "  <thead>\n",
              "    <tr style=\"text-align: right;\">\n",
              "      <th></th>\n",
              "      <th>X</th>\n",
              "      <th>Y</th>\n",
              "    </tr>\n",
              "  </thead>\n",
              "  <tbody>\n",
              "    <tr>\n",
              "      <th>count</th>\n",
              "      <td>34.000000</td>\n",
              "      <td>34.000000</td>\n",
              "    </tr>\n",
              "    <tr>\n",
              "      <th>mean</th>\n",
              "      <td>7.661765</td>\n",
              "      <td>142.794118</td>\n",
              "    </tr>\n",
              "    <tr>\n",
              "      <th>std</th>\n",
              "      <td>0.501522</td>\n",
              "      <td>55.787356</td>\n",
              "    </tr>\n",
              "    <tr>\n",
              "      <th>min</th>\n",
              "      <td>6.700000</td>\n",
              "      <td>35.000000</td>\n",
              "    </tr>\n",
              "    <tr>\n",
              "      <th>25%</th>\n",
              "      <td>7.300000</td>\n",
              "      <td>107.000000</td>\n",
              "    </tr>\n",
              "    <tr>\n",
              "      <th>50%</th>\n",
              "      <td>7.600000</td>\n",
              "      <td>147.000000</td>\n",
              "    </tr>\n",
              "    <tr>\n",
              "      <th>75%</th>\n",
              "      <td>8.000000</td>\n",
              "      <td>186.500000</td>\n",
              "    </tr>\n",
              "    <tr>\n",
              "      <th>max</th>\n",
              "      <td>8.800000</td>\n",
              "      <td>262.000000</td>\n",
              "    </tr>\n",
              "  </tbody>\n",
              "</table>\n",
              "</div>"
            ],
            "text/plain": [
              "               X           Y\n",
              "count  34.000000   34.000000\n",
              "mean    7.661765  142.794118\n",
              "std     0.501522   55.787356\n",
              "min     6.700000   35.000000\n",
              "25%     7.300000  107.000000\n",
              "50%     7.600000  147.000000\n",
              "75%     8.000000  186.500000\n",
              "max     8.800000  262.000000"
            ]
          },
          "metadata": {
            "tags": []
          },
          "execution_count": 216
        }
      ]
    },
    {
      "cell_type": "code",
      "metadata": {
        "colab": {
          "base_uri": "https://localhost:8080/",
          "height": 110
        },
        "id": "ukbNTBAj6BDh",
        "outputId": "211098cc-155d-4ce5-e99a-11b4802ffab2"
      },
      "source": [
        "data.corr()"
      ],
      "execution_count": 217,
      "outputs": [
        {
          "output_type": "execute_result",
          "data": {
            "text/html": [
              "<div>\n",
              "<style scoped>\n",
              "    .dataframe tbody tr th:only-of-type {\n",
              "        vertical-align: middle;\n",
              "    }\n",
              "\n",
              "    .dataframe tbody tr th {\n",
              "        vertical-align: top;\n",
              "    }\n",
              "\n",
              "    .dataframe thead th {\n",
              "        text-align: right;\n",
              "    }\n",
              "</style>\n",
              "<table border=\"1\" class=\"dataframe\">\n",
              "  <thead>\n",
              "    <tr style=\"text-align: right;\">\n",
              "      <th></th>\n",
              "      <th>X</th>\n",
              "      <th>Y</th>\n",
              "    </tr>\n",
              "  </thead>\n",
              "  <tbody>\n",
              "    <tr>\n",
              "      <th>X</th>\n",
              "      <td>1.000000</td>\n",
              "      <td>-0.339511</td>\n",
              "    </tr>\n",
              "    <tr>\n",
              "      <th>Y</th>\n",
              "      <td>-0.339511</td>\n",
              "      <td>1.000000</td>\n",
              "    </tr>\n",
              "  </tbody>\n",
              "</table>\n",
              "</div>"
            ],
            "text/plain": [
              "          X         Y\n",
              "X  1.000000 -0.339511\n",
              "Y -0.339511  1.000000"
            ]
          },
          "metadata": {
            "tags": []
          },
          "execution_count": 217
        }
      ]
    },
    {
      "cell_type": "code",
      "metadata": {
        "colab": {
          "base_uri": "https://localhost:8080/",
          "height": 283
        },
        "id": "PNfzzEjB99YW",
        "outputId": "b97eba97-99b8-4f83-dd03-f6f695067462"
      },
      "source": [
        "plt.scatter(data['X'],data['Y'])"
      ],
      "execution_count": 218,
      "outputs": [
        {
          "output_type": "execute_result",
          "data": {
            "text/plain": [
              "<matplotlib.collections.PathCollection at 0x7f530d613590>"
            ]
          },
          "metadata": {
            "tags": []
          },
          "execution_count": 218
        },
        {
          "output_type": "display_data",
          "data": {
            "image/png": "[encoded data removed]",
            "text/plain": [
              "<Figure size 432x288 with 1 Axes>"
            ]
          },
          "metadata": {
            "tags": [],
            "needs_background": "light"
          }
        }
      ]
    },
    {
      "cell_type": "markdown",
      "metadata": {
        "id": "VIvy4Lh27Gqg"
      },
      "source": [
        "## Outliners "
      ]
    },
    {
      "cell_type": "code",
      "metadata": {
        "colab": {
          "base_uri": "https://localhost:8080/"
        },
        "id": "gxGn9xZN7ACP",
        "outputId": "2b727f20-fe9e-45eb-fc90-50baad1c5c29"
      },
      "source": [
        "from scipy import stats\r\n",
        "\r\n",
        "z = np.abs(stats.zscore(data))\r\n",
        "print(z)"
      ],
      "execution_count": 219,
      "outputs": [
        {
          "output_type": "stream",
          "text": [
            "[[0.12500664 0.25847285]\n",
            " [1.13696519 0.56778404]\n",
            " [1.08934361 0.58597881]\n",
            " [0.32739835 0.8225109 ]\n",
            " [0.52979006 0.51319971]\n",
            " [0.27977677 0.00374598]\n",
            " [0.73218177 1.3501594 ]\n",
            " [0.68456019 0.85890045]\n",
            " [1.13696519 0.01444879]\n",
            " [0.32739835 0.85890045]\n",
            " [0.8869519  1.31376985]\n",
            " [1.3393569  1.02265344]\n",
            " [0.73218177 2.16892432]\n",
            " [0.27977677 0.6876555 ]\n",
            " [0.73218177 0.39653909]\n",
            " [0.68456019 1.12433013]\n",
            " [1.69651874 1.10613535]\n",
            " [1.13696519 1.22279597]\n",
            " [1.08934361 1.07723776]\n",
            " [0.48216848 0.22208329]\n",
            " [0.12500664 0.25847285]\n",
            " [2.30369386 0.07652509]\n",
            " [0.93457348 0.17820178]\n",
            " [0.48216848 1.63378385]\n",
            " [0.8869519  1.57919952]\n",
            " [0.07738507 0.5420973 ]\n",
            " [1.49412703 1.96128982]\n",
            " [0.52979006 0.32375998]\n",
            " [0.73218177 1.21530401]\n",
            " [1.69651874 1.72475773]\n",
            " [0.27977677 0.07652509]\n",
            " [1.94653203 0.46931819]\n",
            " [1.13696519 0.71334225]\n",
            " [0.73218177 1.01516147]]\n"
          ],
          "name": "stdout"
        }
      ]
    },
    {
      "cell_type": "code",
      "metadata": {
        "colab": {
          "base_uri": "https://localhost:8080/",
          "height": 297
        },
        "id": "CfD6aV5_7VmU",
        "outputId": "f1ad6cb5-0ffc-450d-8919-3f195481aa9b"
      },
      "source": [
        "sns.boxplot(x=data['X'])\r\n"
      ],
      "execution_count": 220,
      "outputs": [
        {
          "output_type": "execute_result",
          "data": {
            "text/plain": [
              "<matplotlib.axes._subplots.AxesSubplot at 0x7f530d13f290>"
            ]
          },
          "metadata": {
            "tags": []
          },
          "execution_count": 220
        },
        {
          "output_type": "display_data",
          "data": {
            "image/png": "[encoded data removed]",
            "text/plain": [
              "<Figure size 432x288 with 1 Axes>"
            ]
          },
          "metadata": {
            "tags": [],
            "needs_background": "light"
          }
        }
      ]
    },
    {
      "cell_type": "code",
      "metadata": {
        "colab": {
          "base_uri": "https://localhost:8080/",
          "height": 269
        },
        "id": "Skz8oqTZ7cUd",
        "outputId": "6e33560c-e3ea-4dbd-9f7d-8d949485771b"
      },
      "source": [
        "sns.boxplot(y=data['Y'])"
      ],
      "execution_count": 221,
      "outputs": [
        {
          "output_type": "execute_result",
          "data": {
            "text/plain": [
              "<matplotlib.axes._subplots.AxesSubplot at 0x7f530d265910>"
            ]
          },
          "metadata": {
            "tags": []
          },
          "execution_count": 221
        },
        {
          "output_type": "display_data",
          "data": {
            "image/png": "[encoded data removed]",
            "text/plain": [
              "<Figure size 432x288 with 1 Axes>"
            ]
          },
          "metadata": {
            "tags": [],
            "needs_background": "light"
          }
        }
      ]
    },
    {
      "cell_type": "code",
      "metadata": {
        "colab": {
          "base_uri": "https://localhost:8080/",
          "height": 202
        },
        "id": "bxOB4e9X7gWA",
        "outputId": "f111440e-1016-4938-da2a-56690fe2b31b"
      },
      "source": [
        "filter = data[(z < 3).all(axis=1)]\r\n",
        "filter.head()"
      ],
      "execution_count": 222,
      "outputs": [
        {
          "output_type": "execute_result",
          "data": {
            "text/html": [
              "<div>\n",
              "<style scoped>\n",
              "    .dataframe tbody tr th:only-of-type {\n",
              "        vertical-align: middle;\n",
              "    }\n",
              "\n",
              "    .dataframe tbody tr th {\n",
              "        vertical-align: top;\n",
              "    }\n",
              "\n",
              "    .dataframe thead th {\n",
              "        text-align: right;\n",
              "    }\n",
              "</style>\n",
              "<table border=\"1\" class=\"dataframe\">\n",
              "  <thead>\n",
              "    <tr style=\"text-align: right;\">\n",
              "      <th></th>\n",
              "      <th>X</th>\n",
              "      <th>Y</th>\n",
              "    </tr>\n",
              "  </thead>\n",
              "  <tbody>\n",
              "    <tr>\n",
              "      <th>0</th>\n",
              "      <td>7.6</td>\n",
              "      <td>157</td>\n",
              "    </tr>\n",
              "    <tr>\n",
              "      <th>1</th>\n",
              "      <td>7.1</td>\n",
              "      <td>174</td>\n",
              "    </tr>\n",
              "    <tr>\n",
              "      <th>2</th>\n",
              "      <td>8.2</td>\n",
              "      <td>175</td>\n",
              "    </tr>\n",
              "    <tr>\n",
              "      <th>3</th>\n",
              "      <td>7.5</td>\n",
              "      <td>188</td>\n",
              "    </tr>\n",
              "    <tr>\n",
              "      <th>4</th>\n",
              "      <td>7.4</td>\n",
              "      <td>171</td>\n",
              "    </tr>\n",
              "  </tbody>\n",
              "</table>\n",
              "</div>"
            ],
            "text/plain": [
              "     X    Y\n",
              "0  7.6  157\n",
              "1  7.1  174\n",
              "2  8.2  175\n",
              "3  7.5  188\n",
              "4  7.4  171"
            ]
          },
          "metadata": {
            "tags": []
          },
          "execution_count": 222
        }
      ]
    },
    {
      "cell_type": "code",
      "metadata": {
        "colab": {
          "base_uri": "https://localhost:8080/"
        },
        "id": "7E-NOlKK7sWU",
        "outputId": "96670027-9ccb-44f4-94a5-033171ed284a"
      },
      "source": [
        "print(len(data))\r\n",
        "print(len(filter))"
      ],
      "execution_count": 223,
      "outputs": [
        {
          "output_type": "stream",
          "text": [
            "34\n",
            "34\n"
          ],
          "name": "stdout"
        }
      ]
    },
    {
      "cell_type": "markdown",
      "metadata": {
        "id": "TpF2Lbln78F4"
      },
      "source": [
        "**Observation:** From above analysis, we can conclude that there are no outliners which effect our models and prediction"
      ]
    },
    {
      "cell_type": "markdown",
      "metadata": {
        "id": "Q6D-wdtN8GN3"
      },
      "source": [
        "## Normalisation Of Data"
      ]
    },
    {
      "cell_type": "code",
      "metadata": {
        "id": "VrjVz39i76Eb"
      },
      "source": [
        "norm_data = data.copy()"
      ],
      "execution_count": 224,
      "outputs": []
    },
    {
      "cell_type": "code",
      "metadata": {
        "colab": {
          "base_uri": "https://localhost:8080/",
          "height": 202
        },
        "id": "T46zLUyN8OAN",
        "outputId": "2a451de4-349b-41e8-a492-aeddaa6cdbb6"
      },
      "source": [
        "norm_data = (norm_data - norm_data.min())/(norm_data.max() - norm_data.min())\r\n",
        "norm_data.head()"
      ],
      "execution_count": 225,
      "outputs": [
        {
          "output_type": "execute_result",
          "data": {
            "text/html": [
              "<div>\n",
              "<style scoped>\n",
              "    .dataframe tbody tr th:only-of-type {\n",
              "        vertical-align: middle;\n",
              "    }\n",
              "\n",
              "    .dataframe tbody tr th {\n",
              "        vertical-align: top;\n",
              "    }\n",
              "\n",
              "    .dataframe thead th {\n",
              "        text-align: right;\n",
              "    }\n",
              "</style>\n",
              "<table border=\"1\" class=\"dataframe\">\n",
              "  <thead>\n",
              "    <tr style=\"text-align: right;\">\n",
              "      <th></th>\n",
              "      <th>X</th>\n",
              "      <th>Y</th>\n",
              "    </tr>\n",
              "  </thead>\n",
              "  <tbody>\n",
              "    <tr>\n",
              "      <th>0</th>\n",
              "      <td>0.428571</td>\n",
              "      <td>0.537445</td>\n",
              "    </tr>\n",
              "    <tr>\n",
              "      <th>1</th>\n",
              "      <td>0.190476</td>\n",
              "      <td>0.612335</td>\n",
              "    </tr>\n",
              "    <tr>\n",
              "      <th>2</th>\n",
              "      <td>0.714286</td>\n",
              "      <td>0.616740</td>\n",
              "    </tr>\n",
              "    <tr>\n",
              "      <th>3</th>\n",
              "      <td>0.380952</td>\n",
              "      <td>0.674009</td>\n",
              "    </tr>\n",
              "    <tr>\n",
              "      <th>4</th>\n",
              "      <td>0.333333</td>\n",
              "      <td>0.599119</td>\n",
              "    </tr>\n",
              "  </tbody>\n",
              "</table>\n",
              "</div>"
            ],
            "text/plain": [
              "          X         Y\n",
              "0  0.428571  0.537445\n",
              "1  0.190476  0.612335\n",
              "2  0.714286  0.616740\n",
              "3  0.380952  0.674009\n",
              "4  0.333333  0.599119"
            ]
          },
          "metadata": {
            "tags": []
          },
          "execution_count": 225
        }
      ]
    },
    {
      "cell_type": "markdown",
      "metadata": {
        "id": "89dN_6Yz9W4J"
      },
      "source": [
        "## Splitting of Data into Training and Testing"
      ]
    },
    {
      "cell_type": "code",
      "metadata": {
        "id": "mMCxdhMT8YQj"
      },
      "source": [
        "data_train,data_test = train_test_split(norm_data,test_size=0.1)"
      ],
      "execution_count": 226,
      "outputs": []
    },
    {
      "cell_type": "code",
      "metadata": {
        "colab": {
          "base_uri": "https://localhost:8080/",
          "height": 202
        },
        "id": "wn61MPw19poF",
        "outputId": "707c16f9-e7eb-425e-d328-43dde8c950ba"
      },
      "source": [
        "data_train.head()\r\n"
      ],
      "execution_count": 227,
      "outputs": [
        {
          "output_type": "execute_result",
          "data": {
            "text/html": [
              "<div>\n",
              "<style scoped>\n",
              "    .dataframe tbody tr th:only-of-type {\n",
              "        vertical-align: middle;\n",
              "    }\n",
              "\n",
              "    .dataframe tbody tr th {\n",
              "        vertical-align: top;\n",
              "    }\n",
              "\n",
              "    .dataframe thead th {\n",
              "        text-align: right;\n",
              "    }\n",
              "</style>\n",
              "<table border=\"1\" class=\"dataframe\">\n",
              "  <thead>\n",
              "    <tr style=\"text-align: right;\">\n",
              "      <th></th>\n",
              "      <th>X</th>\n",
              "      <th>Y</th>\n",
              "    </tr>\n",
              "  </thead>\n",
              "  <tbody>\n",
              "    <tr>\n",
              "      <th>25</th>\n",
              "      <td>0.476190</td>\n",
              "      <td>0.343612</td>\n",
              "    </tr>\n",
              "    <tr>\n",
              "      <th>29</th>\n",
              "      <td>0.857143</td>\n",
              "      <td>0.057269</td>\n",
              "    </tr>\n",
              "    <tr>\n",
              "      <th>24</th>\n",
              "      <td>0.666667</td>\n",
              "      <td>0.092511</td>\n",
              "    </tr>\n",
              "    <tr>\n",
              "      <th>22</th>\n",
              "      <td>0.238095</td>\n",
              "      <td>0.431718</td>\n",
              "    </tr>\n",
              "    <tr>\n",
              "      <th>26</th>\n",
              "      <td>0.809524</td>\n",
              "      <td>0.000000</td>\n",
              "    </tr>\n",
              "  </tbody>\n",
              "</table>\n",
              "</div>"
            ],
            "text/plain": [
              "           X         Y\n",
              "25  0.476190  0.343612\n",
              "29  0.857143  0.057269\n",
              "24  0.666667  0.092511\n",
              "22  0.238095  0.431718\n",
              "26  0.809524  0.000000"
            ]
          },
          "metadata": {
            "tags": []
          },
          "execution_count": 227
        }
      ]
    },
    {
      "cell_type": "code",
      "metadata": {
        "colab": {
          "base_uri": "https://localhost:8080/"
        },
        "id": "ymcmif1e9rhW",
        "outputId": "88e6b19f-d3b4-4f5f-8f63-b80bf1e078f9"
      },
      "source": [
        "print(len(data_test))"
      ],
      "execution_count": 228,
      "outputs": [
        {
          "output_type": "stream",
          "text": [
            "4\n"
          ],
          "name": "stdout"
        }
      ]
    },
    {
      "cell_type": "code",
      "metadata": {
        "colab": {
          "base_uri": "https://localhost:8080/"
        },
        "id": "OTvemyy19tfs",
        "outputId": "bc605c8b-8865-4bd4-d1ce-ce607f0ea5a0"
      },
      "source": [
        "data_x = np.array(data_train['X'])\r\n",
        "data_y = np.array(data_train['Y'])\r\n",
        "data_x"
      ],
      "execution_count": 229,
      "outputs": [
        {
          "output_type": "execute_result",
          "data": {
            "text/plain": [
              "array([0.47619048, 0.85714286, 0.66666667, 0.23809524, 0.80952381,\n",
              "       0.33333333, 0.42857143, 0.        , 1.        , 0.57142857,\n",
              "       0.61904762, 0.28571429, 0.28571429, 0.19047619, 0.19047619,\n",
              "       0.19047619, 0.71428571, 0.28571429, 0.57142857, 0.33333333,\n",
              "       0.14285714, 0.66666667, 0.71428571, 0.61904762, 0.52380952,\n",
              "       0.28571429, 0.52380952, 0.52380952, 0.38095238, 0.85714286])"
            ]
          },
          "metadata": {
            "tags": []
          },
          "execution_count": 229
        }
      ]
    },
    {
      "cell_type": "markdown",
      "metadata": {
        "id": "JHH9lO8s-d2J"
      },
      "source": [
        "# Ready To ***Train*** the Model \r\n",
        "\r\n",
        "---\r\n",
        "\r\n"
      ]
    },
    {
      "cell_type": "code",
      "metadata": {
        "id": "aGw9--ZN-cCD"
      },
      "source": [
        "#STEP 2: initialising required parameters\r\n",
        "m = 1\r\n",
        "c = -1\r\n",
        "iter = 1\r\n",
        "epochs = 100\r\n",
        "alpha = 0.1\r\n",
        "ns = len(data_train['X'])\r\n",
        "error = []\r\n"
      ],
      "execution_count": 230,
      "outputs": []
    },
    {
      "cell_type": "code",
      "metadata": {
        "colab": {
          "base_uri": "https://localhost:8080/"
        },
        "id": "gl7Tohqb-X1E",
        "outputId": "24502719-882c-4bdf-eb01-7605eeab487e"
      },
      "source": [
        "# Calculating Gradient Descent\r\n",
        "while (iter<=epochs):\r\n",
        "  # running for loop to calculate and update model parameters for each sample\r\n",
        "  err = 0\r\n",
        "  for i in range(0,ns):\r\n",
        "\r\n",
        "    # calculating error and storing in an list\r\n",
        "    err +=  ((data_y[i] - (m * data_x[i]) - c))**2\r\n",
        "    # calculating derivatives of m and c\r\n",
        "    der_m = (-1) * ((data_y[i] - (m * data_x[i]) - c ))*(data_x[i])\r\n",
        "    der_c = (-1) * (data_y[i] - (m * data_x[i]) - c )\r\n",
        "\r\n",
        "    # calculating change in m and c\r\n",
        "    change_m = (-1)*alpha*der_m\r\n",
        "    change_c = (-1)*alpha*der_c\r\n",
        "\r\n",
        "    #updating m and c\r\n",
        "    m = m + change_m\r\n",
        "    c = c + change_c\r\n",
        "\r\n",
        "    #incrementing no of iterations\r\n",
        "  iter = iter + 1\r\n",
        "  err = (1/(2*len(data_train['X'])))*(err)\r\n",
        "  error.append(err)\r\n",
        "  \r\n",
        "print(m,c)\r\n",
        "\r\n"
      ],
      "execution_count": 231,
      "outputs": [
        {
          "output_type": "stream",
          "text": [
            "-0.3512480594946349 0.6785968732130502\n"
          ],
          "name": "stdout"
        }
      ]
    },
    {
      "cell_type": "markdown",
      "metadata": {
        "id": "vwCWI7lSSl_D"
      },
      "source": [
        "## Mean Squared Error Of `Training Data`\r\n",
        "\r\n",
        "---\r\n",
        "\r\n"
      ]
    },
    {
      "cell_type": "code",
      "metadata": {
        "colab": {
          "base_uri": "https://localhost:8080/"
        },
        "id": "Oa7ZsqzI-83q",
        "outputId": "85ef4f32-1d99-446e-b295-331f0c48bcf8"
      },
      "source": [
        "data_train_pred =  m*data_train['X'] + c\r\n",
        "\r\n",
        "from sklearn.metrics import mean_squared_error\r\n",
        "mse = mean_squared_error(data_train['Y'],data_train_pred)\r\n",
        "mse\r\n"
      ],
      "execution_count": 232,
      "outputs": [
        {
          "output_type": "execute_result",
          "data": {
            "text/plain": [
              "0.05418729906166735"
            ]
          },
          "metadata": {
            "tags": []
          },
          "execution_count": 232
        }
      ]
    },
    {
      "cell_type": "code",
      "metadata": {
        "colab": {
          "base_uri": "https://localhost:8080/"
        },
        "id": "ZBmZ3L7s_UdV",
        "outputId": "1827528b-aad1-4387-9472-843347a34d7f"
      },
      "source": [
        "len(error)"
      ],
      "execution_count": 233,
      "outputs": [
        {
          "output_type": "execute_result",
          "data": {
            "text/plain": [
              "100"
            ]
          },
          "metadata": {
            "tags": []
          },
          "execution_count": 233
        }
      ]
    },
    {
      "cell_type": "code",
      "metadata": {
        "id": "AGtw4PBxETzD"
      },
      "source": [
        "data_train_x = np.array(data_train['X'])\r\n",
        "data_train_y = np.array(data_train['Y'])\r\n",
        "pred2 = []\r\n",
        "for i in data_train_x:\r\n",
        "  pred2.append(m*i + c)"
      ],
      "execution_count": 234,
      "outputs": []
    },
    {
      "cell_type": "code",
      "metadata": {
        "colab": {
          "base_uri": "https://localhost:8080/",
          "height": 283
        },
        "id": "3ZczFn4NF6Io",
        "outputId": "f6da25cb-dc18-45b9-e7d6-bf6c8ba9fa6a"
      },
      "source": [
        "plt.plot(data_train_x,pred2)\r\n",
        "plt.scatter(data_train_x,data_train_y)"
      ],
      "execution_count": 235,
      "outputs": [
        {
          "output_type": "execute_result",
          "data": {
            "text/plain": [
              "<matplotlib.collections.PathCollection at 0x7f530d4c4150>"
            ]
          },
          "metadata": {
            "tags": []
          },
          "execution_count": 235
        },
        {
          "output_type": "display_data",
          "data": {
            "image/png": "[encoded data removed]",
            "text/plain": [
              "<Figure size 432x288 with 1 Axes>"
            ]
          },
          "metadata": {
            "tags": [],
            "needs_background": "light"
          }
        }
      ]
    },
    {
      "cell_type": "markdown",
      "metadata": {
        "id": "eNmEyLXMTc8d"
      },
      "source": [
        "## Error Rate Analysis"
      ]
    },
    {
      "cell_type": "code",
      "metadata": {
        "colab": {
          "base_uri": "https://localhost:8080/",
          "height": 295
        },
        "id": "4_LkEv99_Viv",
        "outputId": "2e209e18-0e77-4f16-e501-d5d73bdd4511"
      },
      "source": [
        "iters = np.arange(epochs)\r\n",
        "plt.plot(iters,error)\r\n",
        "plt.title(\"Error Analysis of Trained Model\")\r\n",
        "plt.xlabel(\" ith iteration\")\r\n",
        "plt.ylabel(\"error at ith iteration\")\r\n",
        "plt.grid()"
      ],
      "execution_count": 236,
      "outputs": [
        {
          "output_type": "display_data",
          "data": {
            "image/png": "[encoded data removed]",
            "text/plain": [
              "<Figure size 432x288 with 1 Axes>"
            ]
          },
          "metadata": {
            "tags": [],
            "needs_background": "light"
          }
        }
      ]
    },
    {
      "cell_type": "markdown",
      "metadata": {
        "id": "F0oWbSutSbs-"
      },
      "source": [
        "## Mean Square Error Of `Testing Data`"
      ]
    },
    {
      "cell_type": "code",
      "metadata": {
        "colab": {
          "base_uri": "https://localhost:8080/"
        },
        "id": "efVUbNlgAzTt",
        "outputId": "d8975900-dca1-47bd-91cd-74ee69be4d43"
      },
      "source": [
        "data_test_pred = m*data_test['X'] + c\r\n",
        "mse2 = mean_squared_error(data_test['Y'],data_test_pred)\r\n",
        "mse2"
      ],
      "execution_count": 237,
      "outputs": [
        {
          "output_type": "execute_result",
          "data": {
            "text/plain": [
              "0.05006138702575402"
            ]
          },
          "metadata": {
            "tags": []
          },
          "execution_count": 237
        }
      ]
    },
    {
      "cell_type": "code",
      "metadata": {
        "colab": {
          "base_uri": "https://localhost:8080/",
          "height": 269
        },
        "id": "IR_G8ltTA1qp",
        "outputId": "92003b80-dc00-4f69-e956-2971b11594fa"
      },
      "source": [
        "plt.scatter(data_test['X'],data_test['Y'])\r\n",
        "plt.plot(data_test['X'],data_test_pred,'red')\r\n",
        "plt.grid()"
      ],
      "execution_count": 238,
      "outputs": [
        {
          "output_type": "display_data",
          "data": {
            "image/png": "[encoded data removed]",
            "text/plain": [
              "<Figure size 432x288 with 1 Axes>"
            ]
          },
          "metadata": {
            "tags": [],
            "needs_background": "light"
          }
        }
      ]
    },
    {
      "cell_type": "markdown",
      "metadata": {
        "id": "EEOwPggeWeoY"
      },
      "source": [
        "## Predicting Number of **`Bicarbonates`** in the well water by giving **`pH`** as input"
      ]
    },
    {
      "cell_type": "code",
      "metadata": {
        "id": "TU80ePPXGBUo"
      },
      "source": [
        "# storing max and min values\r\n",
        "min_x = data['X'].min()\r\n",
        "max_x = data['X'].max()\r\n",
        "min_y = data['Y'].min()\r\n",
        "max_y = data['Y'].max()\r\n",
        "\r\n"
      ],
      "execution_count": 239,
      "outputs": []
    },
    {
      "cell_type": "code",
      "metadata": {
        "colab": {
          "base_uri": "https://localhost:8080/"
        },
        "id": "GkzG6IvlXr8_",
        "outputId": "a9ea16b2-ad92-41c9-fb2f-33738c71cfa0"
      },
      "source": [
        "input_x = float(input(\"enter the pH of well water:\"))\r\n",
        "input_xx = input_x\r\n",
        "input_x = (input_x - min_x)/(max_x - min_x)\r\n",
        "output_y = m*input_x + c\r\n",
        "output_y = output_y*(max_y - min_y) + min_y\r\n",
        "print(\"Total number of bicarbonates in well water having pH =\",input_xx,\"is\",output_y)"
      ],
      "execution_count": 240,
      "outputs": [
        {
          "output_type": "stream",
          "text": [
            "enter the pH of well water:7.8\n",
            "Total number of bicarbonates in well water having pH = 7.8 is 147.27642333564322\n"
          ],
          "name": "stdout"
        }
      ]
    },
    {
      "cell_type": "code",
      "metadata": {
        "id": "T10r1jzLYP2M"
      },
      "source": [
        ""
      ],
      "execution_count": 240,
      "outputs": []
    }
  ]
}