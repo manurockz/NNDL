{
  "nbformat": 4,
  "nbformat_minor": 0,
  "metadata": {
    "colab": {
      "name": "MINI BATCH GRADIENT DESCENT.ipynb",
      "provenance": [],
      "collapsed_sections": [],
      "authorship_tag": "ABX9TyPT6Wu+qJ9/8Wgqt6aND8eN",
      "include_colab_link": true
    },
    "kernelspec": {
      "name": "python3",
      "display_name": "Python 3"
    }
  },
  "cells": [
    {
      "cell_type": "markdown",
      "metadata": {
        "id": "view-in-github",
        "colab_type": "text"
      },
      "source": [
        "<a href=\"https://colab.research.google.com/github/manurockz/NNDL/blob/main/MINI_BATCH_GRADIENT_DESCENT.ipynb\" target=\"_parent\"><img src=\"https://colab.research.google.com/assets/colab-badge.svg\" alt=\"Open In Colab\"/></a>"
      ]
    },
    {
      "cell_type": "code",
      "metadata": {
        "id": "wo2-N-h6EiF4"
      },
      "source": [
        "# MINI BATCH GRADIENT DESCENT"
      ],
      "execution_count": 170,
      "outputs": []
    },
    {
      "cell_type": "code",
      "metadata": {
        "id": "MJImktdaE5UC"
      },
      "source": [
        "import pandas as pd\r\n",
        "import numpy as np\r\n",
        "import matplotlib.pyplot as plt"
      ],
      "execution_count": 171,
      "outputs": []
    },
    {
      "cell_type": "code",
      "metadata": {
        "colab": {
          "base_uri": "https://localhost:8080/"
        },
        "id": "WJuKLYM7FByC",
        "outputId": "ebb555a2-0a8e-4b86-c58d-3e0b607a95d9"
      },
      "source": [
        "data = [[0.2,3.4],[0.4,3.8],[0.6,4.2],[0.8,4.6],[1.0,5.0]] \r\n",
        "data"
      ],
      "execution_count": 172,
      "outputs": [
        {
          "output_type": "execute_result",
          "data": {
            "text/plain": [
              "[[0.2, 3.4], [0.4, 3.8], [0.6, 4.2], [0.8, 4.6], [1.0, 5.0]]"
            ]
          },
          "metadata": {
            "tags": []
          },
          "execution_count": 172
        }
      ]
    },
    {
      "cell_type": "code",
      "metadata": {
        "id": "LAucqePrKNVT"
      },
      "source": [
        ""
      ],
      "execution_count": 172,
      "outputs": []
    },
    {
      "cell_type": "code",
      "metadata": {
        "id": "R6Q2Rfh9FMM7"
      },
      "source": [
        "data_x = []\r\n",
        "data_y = []\r\n",
        "for i in range(len(data)):\r\n",
        "  data_x.append(data[i][0])\r\n",
        "  data_y.append(data[i][1])\r\n",
        "\r\n",
        "data_x = np.array(data_x)\r\n",
        "data_y = np.array(data_y)"
      ],
      "execution_count": 173,
      "outputs": []
    },
    {
      "cell_type": "code",
      "metadata": {
        "colab": {
          "base_uri": "https://localhost:8080/"
        },
        "id": "7XxU-hpvFn7X",
        "outputId": "6961e567-e7ab-4cbd-bb84-4ed07c7bc4ec"
      },
      "source": [
        "bs = 2\r\n",
        "nb = np.ceil(len(data)/2)\r\n",
        "nb\r\n"
      ],
      "execution_count": 174,
      "outputs": [
        {
          "output_type": "execute_result",
          "data": {
            "text/plain": [
              "3.0"
            ]
          },
          "metadata": {
            "tags": []
          },
          "execution_count": 174
        }
      ]
    },
    {
      "cell_type": "code",
      "metadata": {
        "colab": {
          "base_uri": "https://localhost:8080/"
        },
        "id": "u8ZQXmhaGDej",
        "outputId": "0137f11d-c931-4e1b-c53b-f52217b3fa52"
      },
      "source": [
        "import random\r\n",
        "samples = np.arange(len(data))\r\n",
        "random.shuffle(samples)\r\n",
        "samples "
      ],
      "execution_count": 175,
      "outputs": [
        {
          "output_type": "execute_result",
          "data": {
            "text/plain": [
              "array([0, 2, 1, 4, 3])"
            ]
          },
          "metadata": {
            "tags": []
          },
          "execution_count": 175
        }
      ]
    },
    {
      "cell_type": "code",
      "metadata": {
        "id": "TudweVMLGjUQ",
        "colab": {
          "base_uri": "https://localhost:8080/"
        },
        "outputId": "95180a8c-d63e-4284-f9b4-f3e134788ce0"
      },
      "source": [
        "for i in samples:\r\n",
        "  print(data_x[i],data_y[i])"
      ],
      "execution_count": 176,
      "outputs": [
        {
          "output_type": "stream",
          "text": [
            "0.2 3.4\n",
            "0.6 4.2\n",
            "0.4 3.8\n",
            "1.0 5.0\n",
            "0.8 4.6\n"
          ],
          "name": "stdout"
        }
      ]
    },
    {
      "cell_type": "code",
      "metadata": {
        "id": "sewAf9ohxC8Y"
      },
      "source": [
        "iter = 1\r\n",
        "epochs = 200\r\n",
        "batch = nb - 1\r\n",
        "bat = 1\r\n",
        "alpha = 0.1\r\n",
        "m = 1\r\n",
        "c = -1\r\n",
        "error = []"
      ],
      "execution_count": 177,
      "outputs": []
    },
    {
      "cell_type": "code",
      "metadata": {
        "id": "Dl2xVNuZxsmf",
        "colab": {
          "base_uri": "https://localhost:8080/"
        },
        "outputId": "0ec5d89a-b34b-457f-e18b-86556970ee77"
      },
      "source": [
        "while (iter<=epochs):\r\n",
        "  i = 0\r\n",
        "  while (bat <= batch):\r\n",
        "    der_m = 0\r\n",
        "    der_c = 0\r\n",
        "    err = 0\r\n",
        "    for k in range(0,bs):\r\n",
        "      der_m = der_m + (data_y[samples[i]] - (m*data_x[samples[i]])-c)*(data_x[samples[i]])\r\n",
        "      der_c = der_c + (data_y[samples[i]] - (m*data_x[samples[i]])-c)\r\n",
        "      i = i+1\r\n",
        "      \r\n",
        "    err = der_c**2\r\n",
        "    err = (1/(2*bs))*err\r\n",
        "    error.append(err)\r\n",
        "    \r\n",
        "    der_m = (1/bs)*der_m\r\n",
        "    der_c = (1/bs)*der_c\r\n",
        "    change_m = (-1)*alpha*der_m\r\n",
        "    change_c = (-1)*alpha*der_c\r\n",
        "    \r\n",
        "    m = m + change_m\r\n",
        "    c = c + change_c\r\n",
        "    bat = bat + 1\r\n",
        "    \r\n",
        " \r\n",
        "  \r\n",
        "  der_m = 0\r\n",
        "  der_c = 0\r\n",
        "  err = 0\r\n",
        "  es = len(samples) - i  \r\n",
        "  \r\n",
        "  for k in range(i,len(samples)):\r\n",
        "    der_m = der_m + (data_y[samples[i]] - (m*data_x[samples[i]])-c)*(data_x[samples[i]])\r\n",
        "    der_c = der_c + (data_y[samples[i]] - (m*data_x[samples[i]])-c)\r\n",
        "    i = i + 1\r\n",
        "  err = der_c**2\r\n",
        "  err = (1/(es * 2))*err\r\n",
        "  error.append(err)\r\n",
        "  der_m = (-1/es)*der_m\r\n",
        "  der_c = (-1/es)*der_c\r\n",
        "  \r\n",
        "  change_m = (-1)*alpha*der_m\r\n",
        "  change_c = (-1)*alpha*der_c\r\n",
        "  \r\n",
        "  m = m + change_m\r\n",
        "  c = c + change_c\r\n",
        "  \r\n",
        "  iter = iter + 1\r\n",
        "\r\n",
        "print(m,c)\r\n",
        "    \r\n",
        "    "
      ],
      "execution_count": 178,
      "outputs": [
        {
          "output_type": "stream",
          "text": [
            "2.382130387880042 2.7566352856818606\n"
          ],
          "name": "stdout"
        }
      ]
    },
    {
      "cell_type": "code",
      "metadata": {
        "colab": {
          "base_uri": "https://localhost:8080/"
        },
        "id": "gR6rHd6wOEq3",
        "outputId": "fae6da6b-4a55-4836-8f08-d6fb6d6b71d3"
      },
      "source": [
        "print(len(error))\r\n"
      ],
      "execution_count": 179,
      "outputs": [
        {
          "output_type": "stream",
          "text": [
            "202\n"
          ],
          "name": "stdout"
        }
      ]
    },
    {
      "cell_type": "code",
      "metadata": {
        "colab": {
          "base_uri": "https://localhost:8080/",
          "height": 295
        },
        "id": "ICfCi20FOUzY",
        "outputId": "8c1c88ae-d20d-4ba3-c90f-9609f1dab9b8"
      },
      "source": [
        "iters = np.arange(202)\r\n",
        "plt.plot(iters,error,'-m',label=\"ERROR RATE\")\r\n",
        "plt.grid()\r\n",
        "plt.title(\"Error Analysis using Mini Batch Gradient Descent\")\r\n",
        "plt.xlabel(\"Number of iterations\")\r\n",
        "plt.ylabel(\"Error\")\r\n",
        "plt.legend()\r\n",
        "plt.show()"
      ],
      "execution_count": 185,
      "outputs": [
        {
          "output_type": "display_data",
          "data": {
            "image/png": "[encoded data removed]",
            "text/plain": [
              "<Figure size 432x288 with 1 Axes>"
            ]
          },
          "metadata": {
            "tags": [],
            "needs_background": "light"
          }
        }
      ]
    },
    {
      "cell_type": "code",
      "metadata": {
        "colab": {
          "base_uri": "https://localhost:8080/"
        },
        "id": "3KfPFqoM2EUe",
        "outputId": "ab92127c-9b85-4d73-ea69-e795fa1758e9"
      },
      "source": [
        "mse = 0\r\n",
        "for i in range(0,len(data)):\r\n",
        "  mse += (data_y[i] - (m*data_x[i]) -c)**2\r\n",
        "mse = (1/len(data))*mse\r\n",
        "mse"
      ],
      "execution_count": 181,
      "outputs": [
        {
          "output_type": "execute_result",
          "data": {
            "text/plain": [
              "0.011880319630896745"
            ]
          },
          "metadata": {
            "tags": []
          },
          "execution_count": 181
        }
      ]
    },
    {
      "cell_type": "code",
      "metadata": {
        "id": "hqsIoCmK234G",
        "colab": {
          "base_uri": "https://localhost:8080/"
        },
        "outputId": "e569b9e2-b92c-426f-ccbb-75ae6b0996a6"
      },
      "source": [
        "m*0.4 + c"
      ],
      "execution_count": 182,
      "outputs": [
        {
          "output_type": "execute_result",
          "data": {
            "text/plain": [
              "3.709487440833877"
            ]
          },
          "metadata": {
            "tags": []
          },
          "execution_count": 182
        }
      ]
    },
    {
      "cell_type": "code",
      "metadata": {
        "colab": {
          "base_uri": "https://localhost:8080/"
        },
        "id": "9pQER3QpLdjX",
        "outputId": "291d995e-d673-499b-d558-6806be4966cc"
      },
      "source": [
        "for i in range(0,len(data)):\r\n",
        "  print(data_x[i],data_y[i],(m*data_x[i] + c))"
      ],
      "execution_count": 183,
      "outputs": [
        {
          "output_type": "stream",
          "text": [
            "0.2 3.4 3.233061363257869\n",
            "0.4 3.8 3.709487440833877\n",
            "0.6 4.2 4.185913518409886\n",
            "0.8 4.6 4.662339595985895\n",
            "1.0 5.0 5.1387656735619025\n"
          ],
          "name": "stdout"
        }
      ]
    },
    {
      "cell_type": "code",
      "metadata": {
        "id": "lo9mJjeTNkSB"
      },
      "source": [
        ""
      ],
      "execution_count": 183,
      "outputs": []
    }
  ]
}