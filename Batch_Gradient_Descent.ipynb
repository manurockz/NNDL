{
  "nbformat": 4,
  "nbformat_minor": 0,
  "metadata": {
    "colab": {
      "name": "Batch Gradient Descent.ipynb",
      "provenance": [],
      "collapsed_sections": [],
      "authorship_tag": "ABX9TyOFmPhdSk3x9tbBHmhIXupV",
      "include_colab_link": true
    },
    "kernelspec": {
      "name": "python3",
      "display_name": "Python 3"
    }
  },
  "cells": [
    {
      "cell_type": "markdown",
      "metadata": {
        "id": "view-in-github",
        "colab_type": "text"
      },
      "source": [
        "<a href=\"https://colab.research.google.com/github/manurockz/NNDL/blob/main/Batch_Gradient_Descent.ipynb\" target=\"_parent\"><img src=\"https://colab.research.google.com/assets/colab-badge.svg\" alt=\"Open In Colab\"/></a>"
      ]
    },
    {
      "cell_type": "code",
      "metadata": {
        "id": "iVmRrWcDBDpI"
      },
      "source": [
        "# BATCH GRADIENT DESCENT"
      ],
      "execution_count": 60,
      "outputs": []
    },
    {
      "cell_type": "code",
      "metadata": {
        "id": "gKDFywAGBPsy"
      },
      "source": [
        "# importing all necessary packages\r\n",
        "import numpy as np\r\n",
        "import pandas as pd"
      ],
      "execution_count": 61,
      "outputs": []
    },
    {
      "cell_type": "code",
      "metadata": {
        "id": "XePpunVvBeR4"
      },
      "source": [
        "# a 4 row sample data set on which algorithm is trained\r\n",
        "data = [[0.2,3.4],[0.4,3.8],[0.6,4.2],[0.8,4.6]]\r\n",
        "\r\n",
        "data = np.array(data)\r\n"
      ],
      "execution_count": 62,
      "outputs": []
    },
    {
      "cell_type": "code",
      "metadata": {
        "colab": {
          "base_uri": "https://localhost:8080/"
        },
        "id": "WQmnNaMpBhiq",
        "outputId": "6e8ba4fd-4673-48f2-b133-517354680f9f"
      },
      "source": [
        "# view of data\r\n",
        "data"
      ],
      "execution_count": 63,
      "outputs": [
        {
          "output_type": "execute_result",
          "data": {
            "text/plain": [
              "array([[0.2, 3.4],\n",
              "       [0.4, 3.8],\n",
              "       [0.6, 4.2],\n",
              "       [0.8, 4.6]])"
            ]
          },
          "metadata": {
            "tags": []
          },
          "execution_count": 63
        }
      ]
    },
    {
      "cell_type": "code",
      "metadata": {
        "id": "eORSXX0LBk6k"
      },
      "source": [
        "# STEP 1: Reading data X and Y\r\n",
        "data_x = []\r\n",
        "data_y = []\r\n",
        "for i in range(0,len(data)):\r\n",
        "  data_x.append(data[i][0])\r\n",
        "for i in range(0,len(data)):\r\n",
        "  data_y.append(data[i][1])\r\n",
        "data_x=np.array(data_x)\r\n",
        "data_y=np.array(data_y)\r\n"
      ],
      "execution_count": 64,
      "outputs": []
    },
    {
      "cell_type": "code",
      "metadata": {
        "id": "LPIGTXl8Bp-y"
      },
      "source": [
        "#STEP 2: initialising required parameters\r\n",
        "m = 1\r\n",
        "c = -1\r\n",
        "iter = 1\r\n",
        "epochs = 100\r\n",
        "alpha = 0.1\r\n",
        "ns = len(data)\r\n",
        "error = []\r\n"
      ],
      "execution_count": 65,
      "outputs": []
    },
    {
      "cell_type": "code",
      "metadata": {
        "id": "eEcVSn3ZB1Mh"
      },
      "source": [
        "import matplotlib.pyplot as plt"
      ],
      "execution_count": 66,
      "outputs": []
    },
    {
      "cell_type": "code",
      "metadata": {
        "id": "FmU7dVfrB3jA"
      },
      "source": [
        "# while loop is runned until iter reaches epochs\r\n",
        "while (iter<=epochs):\r\n",
        "  # running for loop to calculate and update model parameters for each sample\r\n",
        "  der_m = 0\r\n",
        "  der_c = 0\r\n",
        "  err = 0\r\n",
        "  for i in range(0,len(data)):\r\n",
        "    # calculating derivatives of m and c\r\n",
        "    der_m += ((data_y[i] - (m * data_x[i]) - c ))*(data_x[i])\r\n",
        "    der_c +=  (data_y[i] - (m * data_x[i]) - c )\r\n",
        "\r\n",
        "  #computing error rate with present m and c values \r\n",
        "  err = (der_c)**2\r\n",
        "  err = (err)/(2*ns)\r\n",
        "  error.append(err)\r\n",
        "\r\n",
        "\r\n",
        "  der_m = (-1)*(1/ns)*der_m\r\n",
        "  der_c = (-1)*(1/ns)*der_c\r\n",
        "\r\n",
        "  # calculating change in m and c\r\n",
        "  change_m = (-1)*alpha*der_m\r\n",
        "  change_c = (-1)*alpha*der_c\r\n",
        "\r\n",
        "  #updating m and c\r\n",
        "  m = m + change_m\r\n",
        "  c = c + change_c\r\n",
        "\r\n",
        "\r\n",
        "  #incrementing no of iterations\r\n",
        "  iter = iter + 1\r\n",
        " \r\n"
      ],
      "execution_count": 67,
      "outputs": []
    },
    {
      "cell_type": "code",
      "metadata": {
        "colab": {
          "base_uri": "https://localhost:8080/"
        },
        "id": "pKgGA1lOB-HJ",
        "outputId": "9773918f-5a23-43ce-96b1-30a01079e99d"
      },
      "source": [
        "print(m,c)"
      ],
      "execution_count": 68,
      "outputs": [
        {
          "output_type": "stream",
          "text": [
            "2.572353565334219 2.7019945545615434\n"
          ],
          "name": "stdout"
        }
      ]
    },
    {
      "cell_type": "code",
      "metadata": {
        "id": "CzqthBAtH181",
        "colab": {
          "base_uri": "https://localhost:8080/",
          "height": 295
        },
        "outputId": "99bf736f-0432-4670-e8ae-2bd96a5447b3"
      },
      "source": [
        "iters = np.arange(100)\r\n",
        "plt.plot(iters,error,'-r',label=\"Error At particular Iteration\")\r\n",
        "plt.title(\"Error Analysis\")\r\n",
        "plt.legend(loc='upper right')\r\n",
        "plt.xlabel(\"Number of Iterations\")\r\n",
        "plt.ylabel(\"computed error rate\")\r\n",
        "plt.grid()"
      ],
      "execution_count": 69,
      "outputs": [
        {
          "output_type": "display_data",
          "data": {
            "image/png": "[encoded data removed]",
            "text/plain": [
              "<Figure size 432x288 with 1 Axes>"
            ]
          },
          "metadata": {
            "tags": [],
            "needs_background": "light"
          }
        }
      ]
    },
    {
      "cell_type": "code",
      "metadata": {
        "id": "uub3jwuGH6V-",
        "colab": {
          "base_uri": "https://localhost:8080/"
        },
        "outputId": "1ea83b4b-f63f-4979-9a24-a5f709e5358f"
      },
      "source": [
        "# computing mean squared error\r\n",
        "mse = 0\r\n",
        "for i in range(0,len(data_x)):\r\n",
        "  mse += (data_y[i] - (m*data_x[i]) - c)**2\r\n",
        "mse = mse/len(data)\r\n",
        "mse"
      ],
      "execution_count": 70,
      "outputs": [
        {
          "output_type": "execute_result",
          "data": {
            "text/plain": [
              "0.016519347450497858"
            ]
          },
          "metadata": {
            "tags": []
          },
          "execution_count": 70
        }
      ]
    },
    {
      "cell_type": "code",
      "metadata": {
        "id": "u57gWSKqIyFK",
        "colab": {
          "base_uri": "https://localhost:8080/"
        },
        "outputId": "d8df8e1a-3021-47d2-fd46-53013dee132a"
      },
      "source": [
        "# predictions of training data\r\n",
        "for i in range(0,len(data)):\r\n",
        "  print(round(m*data_x[i]+c,2),data_y[i])"
      ],
      "execution_count": 72,
      "outputs": [
        {
          "output_type": "stream",
          "text": [
            "3.22 3.4\n",
            "3.73 3.8\n",
            "4.25 4.2\n",
            "4.76 4.6\n"
          ],
          "name": "stdout"
        }
      ]
    },
    {
      "cell_type": "code",
      "metadata": {
        "id": "OUhc1bBRLTtF"
      },
      "source": [
        ""
      ],
      "execution_count": null,
      "outputs": []
    }
  ]
}