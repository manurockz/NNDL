{
  "nbformat": 4,
  "nbformat_minor": 0,
  "metadata": {
    "colab": {
      "name": "Stochastic Gradient Descent.ipynb",
      "provenance": [],
      "authorship_tag": "ABX9TyNGyzxB1qBxTdIVpOLQD2Nh",
      "include_colab_link": true
    },
    "kernelspec": {
      "name": "python3",
      "display_name": "Python 3"
    }
  },
  "cells": [
    {
      "cell_type": "markdown",
      "metadata": {
        "id": "view-in-github",
        "colab_type": "text"
      },
      "source": [
        "<a href=\"https://colab.research.google.com/github/manurockz/NNDL/blob/main/Stochastic_Gradient_Descent.ipynb\" target=\"_parent\"><img src=\"https://colab.research.google.com/assets/colab-badge.svg\" alt=\"Open In Colab\"/></a>"
      ]
    },
    {
      "cell_type": "code",
      "metadata": {
        "id": "cchJuiwOmaL0"
      },
      "source": [
        "# STOCHASTIC GRADIENT DESCENT"
      ],
      "execution_count": null,
      "outputs": []
    },
    {
      "cell_type": "code",
      "metadata": {
        "id": "7XguLawxfJe6"
      },
      "source": [
        "# importing all necessary packages\r\n",
        "import numpy as np\r\n",
        "import pandas as pd"
      ],
      "execution_count": 1,
      "outputs": []
    },
    {
      "cell_type": "code",
      "metadata": {
        "id": "1bpia6GNfMZM"
      },
      "source": [
        "# a 4 row sample data set on which algorithm is trained\r\n",
        "data = [[0.2,3.4],[0.4,3.8],[0.6,4.2],[0.8,4.6]]\r\n",
        "data = np.array(data)\r\n"
      ],
      "execution_count": 52,
      "outputs": []
    },
    {
      "cell_type": "code",
      "metadata": {
        "colab": {
          "base_uri": "https://localhost:8080/"
        },
        "id": "GmTXWDE7fsJM",
        "outputId": "25bae089-18d1-46ba-d78f-ee50e0ab6565"
      },
      "source": [
        "# view of data\r\n",
        "data"
      ],
      "execution_count": 53,
      "outputs": [
        {
          "output_type": "execute_result",
          "data": {
            "text/plain": [
              "array([[0.2, 3.4],\n",
              "       [0.4, 3.8],\n",
              "       [0.6, 4.2],\n",
              "       [0.8, 4.6]])"
            ]
          },
          "metadata": {
            "tags": []
          },
          "execution_count": 53
        }
      ]
    },
    {
      "cell_type": "code",
      "metadata": {
        "id": "KcYK0vAufs9w"
      },
      "source": [
        "# STEP 1: Reading data X and Y\r\n",
        "data_x = []\r\n",
        "data_y = []\r\n",
        "for i in range(0,len(data)):\r\n",
        "  data_x.append(data[i][0])\r\n",
        "for i in range(0,len(data)):\r\n",
        "  data_y.append(data[i][1])\r\n",
        "data_x=np.array(data_x)\r\n",
        "data_y=np.array(data_y)\r\n"
      ],
      "execution_count": 54,
      "outputs": []
    },
    {
      "cell_type": "code",
      "metadata": {
        "id": "ydOtoa1-fuEO"
      },
      "source": [
        "#STEP 2: initialising required parameters\r\n",
        "m = 1\r\n",
        "c = -1\r\n",
        "iter = 1\r\n",
        "epochs = 100\r\n",
        "alpha = 0.1\r\n",
        "ns = len(data)\r\n",
        "error = []\r\n"
      ],
      "execution_count": 55,
      "outputs": []
    },
    {
      "cell_type": "code",
      "metadata": {
        "id": "MttE26eQfvTo"
      },
      "source": [
        "import matplotlib.pyplot as plt"
      ],
      "execution_count": 42,
      "outputs": []
    },
    {
      "cell_type": "code",
      "metadata": {
        "colab": {
          "base_uri": "https://localhost:8080/"
        },
        "id": "sqLyPUDEfwvU",
        "outputId": "deb179e9-6938-4d52-b9de-5ffc7e9a9e5c"
      },
      "source": [
        "# while loop is runned until iter reaches epochs\r\n",
        "while (iter<=epochs):\r\n",
        "  # running for loop to calculate and update model parameters for each sample\r\n",
        "  for i in range(0,len(data)):\r\n",
        "\r\n",
        "    # calculating error and storing in an list\r\n",
        "    err = (0.5) * ((data_y[i] - (m * data_x[i]) - c))**2\r\n",
        "    error.append(err)\r\n",
        "\r\n",
        "    # calculating derivatives of m and c\r\n",
        "    der_m = (-1) * ((data_y[i] - (m * data_x[i]) - c ))*(data_x[i])\r\n",
        "    der_c = (-1) * (data_y[i] - (m * data_x[i]) - c )\r\n",
        "\r\n",
        "    # calculating change in m and c\r\n",
        "    change_m = (-1)*alpha*der_m\r\n",
        "    change_c = (-1)*alpha*der_c\r\n",
        "\r\n",
        "    #updating m and c\r\n",
        "    m = m + change_m\r\n",
        "    c = c + change_c\r\n",
        "\r\n",
        "    #incrementing no of iterations\r\n",
        "  iter = iter + 1\r\n",
        " \r\n",
        "\r\n",
        "  \r\n",
        "print(m,c)\r\n",
        "\r\n"
      ],
      "execution_count": 56,
      "outputs": [
        {
          "output_type": "stream",
          "text": [
            "2.1388522737865148 2.922605293889677\n"
          ],
          "name": "stdout"
        }
      ]
    },
    {
      "cell_type": "code",
      "metadata": {
        "id": "mrNRflO0izcn"
      },
      "source": [
        ""
      ],
      "execution_count": 50,
      "outputs": []
    },
    {
      "cell_type": "code",
      "metadata": {
        "colab": {
          "base_uri": "https://localhost:8080/",
          "height": 283
        },
        "id": "UVj7SUN7kqqs",
        "outputId": "5280081b-96b1-44c4-fef6-2ac30b1430ae"
      },
      "source": [
        "# plotting a graph no_of_iterations vs error\r\n",
        "iters = np.arange(400)\r\n",
        "plt.plot(iters,error)"
      ],
      "execution_count": 57,
      "outputs": [
        {
          "output_type": "execute_result",
          "data": {
            "text/plain": [
              "[<matplotlib.lines.Line2D at 0x7efda4bca750>]"
            ]
          },
          "metadata": {
            "tags": []
          },
          "execution_count": 57
        },
        {
          "output_type": "display_data",
          "data": {
            "image/png": "[encoded data removed]",
            "text/plain": [
              "<Figure size 432x288 with 1 Axes>"
            ]
          },
          "metadata": {
            "tags": [],
            "needs_background": "light"
          }
        }
      ]
    },
    {
      "cell_type": "code",
      "metadata": {
        "colab": {
          "base_uri": "https://localhost:8080/"
        },
        "id": "Srzg8DBfkxvT",
        "outputId": "c6a6e055-2313-49e8-fcf3-ae5c5874f363"
      },
      "source": [
        "# computing mean squared error\r\n",
        "mse = 0\r\n",
        "for i in range(0,len(data_x)):\r\n",
        "  mse += (data_y[i] - (m*data_x[i]) - c)**2\r\n",
        "mse = mse/len(data)\r\n",
        "mse\r\n"
      ],
      "execution_count": 65,
      "outputs": [
        {
          "output_type": "execute_result",
          "data": {
            "text/plain": [
              "0.0010274957921514245"
            ]
          },
          "metadata": {
            "tags": []
          },
          "execution_count": 65
        }
      ]
    },
    {
      "cell_type": "code",
      "metadata": {
        "id": "lluYJ1eLo3UR"
      },
      "source": [
        ""
      ],
      "execution_count": null,
      "outputs": []
    }
  ]
}