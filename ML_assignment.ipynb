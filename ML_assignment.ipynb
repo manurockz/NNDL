{
  "cells": [
    {
      "cell_type": "code",
      "execution_count": 47,
      "id": "22d9bd56",
      "metadata": {
        "id": "22d9bd56"
      },
      "outputs": [],
      "source": [
        "#importing necessary packages\n",
        "import pandas as pd\n",
        "import numpy as np\n",
        "#importing cv2 for image processings\n",
        "import cv2\n",
        "import matplotlib.pyplot as plt\n",
        "#tensorflow to implement Artificial Nueral Network\n",
        "import tensorflow as tf\n",
        "from tensorflow.keras import datasets,layers,models"
      ]
    },
    {
      "cell_type": "markdown",
      "id": "e0290326",
      "metadata": {},
      "source": [
        "### Artificial Neural Network\n"
      ]
    },
    {
      "cell_type": "code",
      "execution_count": 48,
      "id": "4505068f",
      "metadata": {},
      "outputs": [],
      "source": [
        "#function to train the artificial nueral network model\n",
        "def ANN_model():\n",
        "    ann=models.Sequential([\n",
        "        layers.Flatten(input_shape=[50,50,3]),\n",
        "        layers.Dense(130,activation='relu'),\n",
        "        layers.Dense(200,activation='relu'),\n",
        "        layers.Dense(10,activation='sigmoid')\n",
        "    ])\n",
        "    ann.compile(optimizer='Adam',\n",
        "                loss='sparse_categorical_crossentropy',\n",
        "                metrics=['accuracy'])\n",
        "\n",
        "    ann.fit(x_train,y_train,epochs=50)\n",
        "    return ann"
      ]
    },
    {
      "cell_type": "markdown",
      "id": "0e04f03a",
      "metadata": {},
      "source": [
        "### SVM"
      ]
    },
    {
      "cell_type": "code",
      "execution_count": 49,
      "id": "5f9a6628",
      "metadata": {},
      "outputs": [],
      "source": [
        "# SVM using RBF kernel\n",
        "def SVM_rbf_model():\n",
        "    from sklearn import svm\n",
        "    svm = svm.SVC(kernel='rbf', probability=True, random_state=42)\n",
        "    svm.fit(x_train, y_train)\n",
        "\n",
        "    y_pred = svm.predict(x_test)\n",
        "    print(classification_report(y_test,y_pred))"
      ]
    },
    {
      "cell_type": "code",
      "execution_count": 50,
      "id": "b69b74c2",
      "metadata": {},
      "outputs": [],
      "source": [
        "#svm using poly kernel\n",
        "def SVM_Poly_model():\n",
        "    from sklearn import svm\n",
        "    svm = svm.SVC(kernel='poly', probability=True, random_state=42)\n",
        "    svm.fit(x_train, y_train)\n",
        "\n",
        "    y_pred = svm.predict(x_test)\n",
        "    print(classification_report(y_test,y_pred))"
      ]
    },
    {
      "cell_type": "markdown",
      "id": "25a445bc",
      "metadata": {
        "id": "25a445bc"
      },
      "source": [
        "### Identifying Labels from dataset"
      ]
    },
    {
      "cell_type": "code",
      "execution_count": 51,
      "id": "54269798",
      "metadata": {
        "id": "54269798"
      },
      "outputs": [],
      "source": [
        "import re\n",
        "#identifying the target output Labels\n",
        "def my_label(image_name):\n",
        "    name=re.split('[-.]+',image_name)\n",
        "    name=name[-3]\n",
        "    if name in classes:\n",
        "        return classes.index(name)\n",
        "    else:\n",
        "        classes.append(name)\n",
        "        return classes.index(name)"
      ]
    },
    {
      "cell_type": "markdown",
      "id": "b6aa18c6",
      "metadata": {
        "id": "b6aa18c6"
      },
      "source": [
        "### Data PRocessing"
      ]
    },
    {
      "cell_type": "code",
      "execution_count": 52,
      "id": "b6f462cc",
      "metadata": {
        "id": "b6f462cc"
      },
      "outputs": [],
      "source": [
        "import os\n",
        "#to shuffle the data\n",
        "from random import shuffle\n",
        "from tqdm import tqdm"
      ]
    },
    {
      "cell_type": "code",
      "execution_count": 53,
      "id": "e81d40fb",
      "metadata": {
        "id": "e81d40fb"
      },
      "outputs": [],
      "source": [
        "def my_data():\n",
        "    data=[]\n",
        "    for folder in tqdm(os.listdir(\"Images\")):\n",
        "        t_path=os.path.join(\"Images\"+\"//\"+folder)\n",
        "        for img in tqdm(os.listdir(\"Images\"+\"//\"+folder)):\n",
        "            path=os.path.join(t_path,img)\n",
        "            #reading images one by one\n",
        "            img_data=cv2.imread(path)\n",
        "            #resizing them into 50x50\n",
        "            img_data=cv2.resize(img_data,(50,50))\n",
        "            #converting images into numpy array vectors\n",
        "            data.append([np.array(img_data),my_label(img)])\n",
        "    shuffle(data)\n",
        "    return data    "
      ]
    },
    {
      "cell_type": "code",
      "execution_count": 54,
      "id": "e2a31b7b",
      "metadata": {
        "id": "e2a31b7b",
        "outputId": "2cb9a8a7-0de3-4695-ee48-2b13feb9dced"
      },
      "outputs": [
        {
          "name": "stderr",
          "output_type": "stream",
          "text": [
            "100%|██████████| 202/202 [00:00<00:00, 592.22it/s]\n",
            "100%|██████████| 202/202 [00:00<00:00, 623.13it/s]\n",
            "100%|██████████| 202/202 [00:00<00:00, 771.45it/s]\n",
            "100%|██████████| 202/202 [00:00<00:00, 941.90it/s]\n",
            "100%|██████████| 4/4 [00:01<00:00,  3.46it/s]\n"
          ]
        }
      ],
      "source": [
        "classes=[]\n",
        "data=my_data()"
      ]
    },
    {
      "cell_type": "code",
      "execution_count": 55,
      "id": "bb6f7910",
      "metadata": {
        "id": "bb6f7910",
        "outputId": "2e9bc7e6-780d-4ed1-cc11-54c6ca64812e"
      },
      "outputs": [
        {
          "data": {
            "text/plain": [
              "['cat', 'dog', 'horse', 'rider']"
            ]
          },
          "execution_count": 55,
          "metadata": {},
          "output_type": "execute_result"
        }
      ],
      "source": [
        "#printing all target labels\n",
        "classes"
      ]
    },
    {
      "cell_type": "code",
      "execution_count": 56,
      "id": "fbf4c253",
      "metadata": {
        "id": "fbf4c253"
      },
      "outputs": [],
      "source": [
        "#code t display an image\n",
        "def plot_sample(x,y,index):\n",
        "    plt.figure(figsize=(15,2))\n",
        "    plt.imshow(x[index])\n",
        "    plt.xlabel(classes[y[index]])"
      ]
    },
    {
      "cell_type": "code",
      "execution_count": 57,
      "id": "19a4b91d",
      "metadata": {
        "id": "19a4b91d"
      },
      "outputs": [],
      "source": [
        "\n",
        "x=np.array([a[0] for a in data]).reshape(-1,50,50,3)\n",
        "y=np.array([a[1] for a in data])\n",
        "from sklearn.model_selection import train_test_split\n",
        "#splitting data , training:80% , testing:20%\n",
        "x_train,x_test,y_train,y_test=train_test_split(x,y,test_size=0.20)"
      ]
    },
    {
      "cell_type": "code",
      "execution_count": 58,
      "id": "74c25175",
      "metadata": {
        "id": "74c25175",
        "outputId": "c57ca022-9815-4bd6-f5b8-40302cfe2b9c"
      },
      "outputs": [
        {
          "data": {
            "image/png": "[encoded data removed]",
            "text/plain": [
              "<Figure size 1080x144 with 1 Axes>"
            ]
          },
          "metadata": {
            "needs_background": "light"
          },
          "output_type": "display_data"
        }
      ],
      "source": [
        "plot_sample(x_train,y_train,7)"
      ]
    },
    {
      "cell_type": "code",
      "execution_count": 59,
      "id": "15680550",
      "metadata": {
        "id": "15680550"
      },
      "outputs": [],
      "source": [
        "#Normalizing the pixels of images\n",
        "x_train=x_train/255.0\n",
        "x_test=x_test/255.0"
      ]
    },
    {
      "cell_type": "markdown",
      "id": "27d9a98f",
      "metadata": {
        "id": "27d9a98f"
      },
      "source": [
        "### implementing Artificial Neural Networks"
      ]
    },
    {
      "cell_type": "code",
      "execution_count": 60,
      "id": "41eff6ff",
      "metadata": {
        "id": "41eff6ff",
        "outputId": "2aa4a7d9-c6b4-45f2-8056-9a9fca8b1c90"
      },
      "outputs": [
        {
          "name": "stdout",
          "output_type": "stream",
          "text": [
            "Epoch 1/50\n",
            "21/21 [==============================] - 0s 4ms/step - loss: 2.9523 - accuracy: 0.2663\n",
            "Epoch 2/50\n",
            "21/21 [==============================] - 0s 4ms/step - loss: 1.3287 - accuracy: 0.4102\n",
            "Epoch 3/50\n",
            "21/21 [==============================] - 0s 5ms/step - loss: 1.2572 - accuracy: 0.4241\n",
            "Epoch 4/50\n",
            "21/21 [==============================] - 0s 4ms/step - loss: 1.2031 - accuracy: 0.4628\n",
            "Epoch 5/50\n",
            "21/21 [==============================] - 0s 5ms/step - loss: 1.0992 - accuracy: 0.4923\n",
            "Epoch 6/50\n",
            "21/21 [==============================] - 0s 5ms/step - loss: 1.0368 - accuracy: 0.5619\n",
            "Epoch 7/50\n",
            "21/21 [==============================] - 0s 5ms/step - loss: 1.0090 - accuracy: 0.5867\n",
            "Epoch 8/50\n",
            "21/21 [==============================] - 0s 5ms/step - loss: 0.9554 - accuracy: 0.5851\n",
            "Epoch 9/50\n",
            "21/21 [==============================] - 0s 5ms/step - loss: 0.9385 - accuracy: 0.6347\n",
            "Epoch 10/50\n",
            "21/21 [==============================] - 0s 5ms/step - loss: 0.8696 - accuracy: 0.6517\n",
            "Epoch 11/50\n",
            "21/21 [==============================] - 0s 4ms/step - loss: 0.9039 - accuracy: 0.6285\n",
            "Epoch 12/50\n",
            "21/21 [==============================] - 0s 4ms/step - loss: 0.7882 - accuracy: 0.6873\n",
            "Epoch 13/50\n",
            "21/21 [==============================] - 0s 4ms/step - loss: 0.8682 - accuracy: 0.6347\n",
            "Epoch 14/50\n",
            "21/21 [==============================] - 0s 6ms/step - loss: 0.7590 - accuracy: 0.6811\n",
            "Epoch 15/50\n",
            "21/21 [==============================] - 0s 6ms/step - loss: 0.6783 - accuracy: 0.7183\n",
            "Epoch 16/50\n",
            "21/21 [==============================] - 0s 4ms/step - loss: 0.6356 - accuracy: 0.7508\n",
            "Epoch 17/50\n",
            "21/21 [==============================] - 0s 5ms/step - loss: 0.6394 - accuracy: 0.7477\n",
            "Epoch 18/50\n",
            "21/21 [==============================] - 0s 6ms/step - loss: 0.5480 - accuracy: 0.7926\n",
            "Epoch 19/50\n",
            "21/21 [==============================] - 0s 5ms/step - loss: 0.5084 - accuracy: 0.8034\n",
            "Epoch 20/50\n",
            "21/21 [==============================] - 0s 8ms/step - loss: 0.5563 - accuracy: 0.7663\n",
            "Epoch 21/50\n",
            "21/21 [==============================] - 0s 6ms/step - loss: 0.6092 - accuracy: 0.7539\n",
            "Epoch 22/50\n",
            "21/21 [==============================] - 0s 5ms/step - loss: 0.4923 - accuracy: 0.8189\n",
            "Epoch 23/50\n",
            "21/21 [==============================] - 0s 6ms/step - loss: 0.4712 - accuracy: 0.8282\n",
            "Epoch 24/50\n",
            "21/21 [==============================] - 0s 6ms/step - loss: 0.3964 - accuracy: 0.8622\n",
            "Epoch 25/50\n",
            "21/21 [==============================] - 0s 6ms/step - loss: 0.3645 - accuracy: 0.8700\n",
            "Epoch 26/50\n",
            "21/21 [==============================] - 0s 7ms/step - loss: 0.3210 - accuracy: 0.8870\n",
            "Epoch 27/50\n",
            "21/21 [==============================] - 0s 6ms/step - loss: 0.3949 - accuracy: 0.8498\n",
            "Epoch 28/50\n",
            "21/21 [==============================] - 0s 5ms/step - loss: 0.3006 - accuracy: 0.8947\n",
            "Epoch 29/50\n",
            "21/21 [==============================] - 0s 6ms/step - loss: 0.2805 - accuracy: 0.8978\n",
            "Epoch 30/50\n",
            "21/21 [==============================] - 0s 5ms/step - loss: 0.2425 - accuracy: 0.9164\n",
            "Epoch 31/50\n",
            "21/21 [==============================] - 0s 5ms/step - loss: 0.3247 - accuracy: 0.8638\n",
            "Epoch 32/50\n",
            "21/21 [==============================] - 0s 5ms/step - loss: 0.2413 - accuracy: 0.9195\n",
            "Epoch 33/50\n",
            "21/21 [==============================] - 0s 6ms/step - loss: 0.2033 - accuracy: 0.9334\n",
            "Epoch 34/50\n",
            "21/21 [==============================] - 0s 7ms/step - loss: 0.2355 - accuracy: 0.9071\n",
            "Epoch 35/50\n",
            "21/21 [==============================] - 0s 5ms/step - loss: 0.1566 - accuracy: 0.9582\n",
            "Epoch 36/50\n",
            "21/21 [==============================] - 0s 6ms/step - loss: 0.1216 - accuracy: 0.9706\n",
            "Epoch 37/50\n",
            "21/21 [==============================] - 0s 6ms/step - loss: 0.1368 - accuracy: 0.9690\n",
            "Epoch 38/50\n",
            "21/21 [==============================] - 0s 6ms/step - loss: 0.1072 - accuracy: 0.9706\n",
            "Epoch 39/50\n",
            "21/21 [==============================] - 0s 5ms/step - loss: 0.0849 - accuracy: 0.9845\n",
            "Epoch 40/50\n",
            "21/21 [==============================] - 0s 6ms/step - loss: 0.1147 - accuracy: 0.9752\n",
            "Epoch 41/50\n",
            "21/21 [==============================] - 0s 6ms/step - loss: 0.1022 - accuracy: 0.9752\n",
            "Epoch 42/50\n",
            "21/21 [==============================] - 0s 6ms/step - loss: 0.1373 - accuracy: 0.9396\n",
            "Epoch 43/50\n",
            "21/21 [==============================] - 0s 5ms/step - loss: 0.0564 - accuracy: 0.9923\n",
            "Epoch 44/50\n",
            "21/21 [==============================] - 0s 6ms/step - loss: 0.0523 - accuracy: 0.9969\n",
            "Epoch 45/50\n",
            "21/21 [==============================] - 0s 5ms/step - loss: 0.0581 - accuracy: 0.9923\n",
            "Epoch 46/50\n",
            "21/21 [==============================] - 0s 5ms/step - loss: 0.0557 - accuracy: 0.9892\n",
            "Epoch 47/50\n",
            "21/21 [==============================] - 0s 5ms/step - loss: 0.0566 - accuracy: 0.9861\n",
            "Epoch 48/50\n",
            "21/21 [==============================] - 0s 6ms/step - loss: 0.0715 - accuracy: 0.9814\n",
            "Epoch 49/50\n",
            "21/21 [==============================] - 0s 4ms/step - loss: 0.0677 - accuracy: 0.9830\n",
            "Epoch 50/50\n",
            "21/21 [==============================] - 0s 4ms/step - loss: 0.0524 - accuracy: 0.9938\n",
            "6/6 [==============================] - 0s 2ms/step - loss: 2.2317 - accuracy: 0.5062\n"
          ]
        },
        {
          "data": {
            "text/plain": [
              "[2.231689453125, 0.5061728358268738]"
            ]
          },
          "execution_count": 60,
          "metadata": {},
          "output_type": "execute_result"
        }
      ],
      "source": [
        "#calling ann function\n",
        "ann=ANN_model()\n",
        "ann.evaluate(x_test,y_test)"
      ]
    },
    {
      "cell_type": "code",
      "execution_count": 61,
      "id": "616b7452",
      "metadata": {
        "id": "616b7452",
        "outputId": "545a6573-cc5d-4985-c5c7-4bb1b549713a"
      },
      "outputs": [
        {
          "name": "stdout",
          "output_type": "stream",
          "text": [
            "              precision    recall  f1-score   support\n",
            "\n",
            "           0       0.47      0.46      0.46        50\n",
            "           1       0.34      0.51      0.41        35\n",
            "           2       0.60      0.66      0.63        32\n",
            "           3       0.80      0.44      0.57        45\n",
            "\n",
            "    accuracy                           0.51       162\n",
            "   macro avg       0.55      0.52      0.52       162\n",
            "weighted avg       0.56      0.51      0.51       162\n",
            "\n"
          ]
        }
      ],
      "source": [
        "#printing accuracy, precision and recall of ann model\n",
        "from sklearn.metrics import classification_report,confusion_matrix\n",
        "import numpy as np\n",
        "y_pred=ann.predict(x_test)\n",
        "y_pred_classes=[np.argmax(element) for element in y_pred]\n",
        "print(classification_report(y_test,y_pred_classes))"
      ]
    },
    {
      "cell_type": "markdown",
      "id": "41fc516a",
      "metadata": {
        "id": "41fc516a"
      },
      "source": [
        "###  implementing SVM"
      ]
    },
    {
      "cell_type": "code",
      "execution_count": 62,
      "id": "f785445f",
      "metadata": {
        "id": "f785445f"
      },
      "outputs": [],
      "source": [
        "x= x.reshape(len(x),-1)\n",
        "x_train,x_test,y_train,y_test=train_test_split(x,y,test_size=0.20)"
      ]
    },
    {
      "cell_type": "code",
      "execution_count": 63,
      "id": "c435515e",
      "metadata": {
        "id": "c435515e",
        "outputId": "16d1bac8-abb7-4840-cfc8-b5db878e7698"
      },
      "outputs": [
        {
          "name": "stdout",
          "output_type": "stream",
          "text": [
            "              precision    recall  f1-score   support\n",
            "\n",
            "           0       0.44      0.50      0.47        32\n",
            "           1       0.44      0.54      0.49        37\n",
            "           2       0.78      0.74      0.76        47\n",
            "           3       0.78      0.61      0.68        46\n",
            "\n",
            "    accuracy                           0.61       162\n",
            "   macro avg       0.61      0.60      0.60       162\n",
            "weighted avg       0.64      0.61      0.62       162\n",
            "\n"
          ]
        }
      ],
      "source": [
        "#implementing SVM using rbf kernel\n",
        "SVM_rbf_model()"
      ]
    },
    {
      "cell_type": "code",
      "execution_count": 64,
      "id": "a6e4381d",
      "metadata": {
        "id": "a6e4381d",
        "outputId": "9f198ffb-5963-4c4e-df73-c4eab7d6756b"
      },
      "outputs": [
        {
          "name": "stdout",
          "output_type": "stream",
          "text": [
            "              precision    recall  f1-score   support\n",
            "\n",
            "           0       0.38      0.62      0.47        32\n",
            "           1       0.41      0.41      0.41        37\n",
            "           2       0.77      0.64      0.70        47\n",
            "           3       0.76      0.54      0.63        46\n",
            "\n",
            "    accuracy                           0.56       162\n",
            "   macro avg       0.58      0.55      0.55       162\n",
            "weighted avg       0.61      0.56      0.57       162\n",
            "\n"
          ]
        }
      ],
      "source": [
        "#implementing svm using poly kernel\n",
        "SVM_Poly_model()"
      ]
    },
    {
      "cell_type": "code",
      "execution_count": null,
      "id": "98aa31b1",
      "metadata": {
        "id": "98aa31b1"
      },
      "outputs": [],
      "source": []
    }
  ],
  "metadata": {
    "colab": {
      "name": "ML assignment.ipynb",
      "provenance": []
    },
    "kernelspec": {
      "display_name": "Python 3 (ipykernel)",
      "language": "python",
      "name": "python3"
    },
    "language_info": {
      "codemirror_mode": {
        "name": "ipython",
        "version": 3
      },
      "file_extension": ".py",
      "mimetype": "text/x-python",
      "name": "python",
      "nbconvert_exporter": "python",
      "pygments_lexer": "ipython3",
      "version": "3.7.7"
    }
  },
  "nbformat": 4,
  "nbformat_minor": 5
}
