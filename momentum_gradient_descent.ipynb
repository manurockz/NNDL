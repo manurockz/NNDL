{
  "nbformat": 4,
  "nbformat_minor": 0,
  "metadata": {
    "colab": {
      "name": "momentum gradient descent.ipynb",
      "provenance": [],
      "collapsed_sections": [],
      "authorship_tag": "ABX9TyPl9HwzlSIVeB9ubVpdechV",
      "include_colab_link": true
    },
    "kernelspec": {
      "name": "python3",
      "display_name": "Python 3"
    }
  },
  "cells": [
    {
      "cell_type": "markdown",
      "metadata": {
        "id": "view-in-github",
        "colab_type": "text"
      },
      "source": [
        "<a href=\"https://colab.research.google.com/github/manurockz/NNDL/blob/main/momentum_gradient_descent.ipynb\" target=\"_parent\"><img src=\"https://colab.research.google.com/assets/colab-badge.svg\" alt=\"Open In Colab\"/></a>"
      ]
    },
    {
      "cell_type": "code",
      "metadata": {
        "id": "TGxdU2REU4iA"
      },
      "source": [
        "# MOMENTUM GRADIENT DESCENT"
      ],
      "execution_count": null,
      "outputs": []
    },
    {
      "cell_type": "code",
      "metadata": {
        "id": "3a37E8HIVlhV"
      },
      "source": [
        "# importing all necessary packages\r\n",
        "import numpy as np\r\n",
        "import pandas as pd"
      ],
      "execution_count": null,
      "outputs": []
    },
    {
      "cell_type": "code",
      "metadata": {
        "id": "PGThCtwuVntB"
      },
      "source": [
        "# a 4 row sample data set on which algorithm is trained\r\n",
        "data = [[0.2,3.4],[0.4,3.8],[0.6,4.2],[0.8,4.6]]\r\n",
        "data = np.array(data)\r\n"
      ],
      "execution_count": null,
      "outputs": []
    },
    {
      "cell_type": "code",
      "metadata": {
        "colab": {
          "base_uri": "https://localhost:8080/"
        },
        "id": "cyphzg8XVrHY",
        "outputId": "cde929c3-2db1-4df3-b3d3-aae398726153"
      },
      "source": [
        "# view of data\r\n",
        "data"
      ],
      "execution_count": null,
      "outputs": [
        {
          "output_type": "execute_result",
          "data": {
            "text/plain": [
              "array([[0.2, 3.4],\n",
              "       [0.4, 3.8],\n",
              "       [0.6, 4.2],\n",
              "       [0.8, 4.6]])"
            ]
          },
          "metadata": {
            "tags": []
          },
          "execution_count": 215
        }
      ]
    },
    {
      "cell_type": "code",
      "metadata": {
        "id": "GEHGAte5Vusj"
      },
      "source": [
        "# STEP 1: Reading data X and Y\r\n",
        "data_x = []\r\n",
        "data_y = []\r\n",
        "for i in range(0,len(data)):\r\n",
        "  data_x.append(data[i][0])\r\n",
        "for i in range(0,len(data)):\r\n",
        "  data_y.append(data[i][1])\r\n",
        "data_x=np.array(data_x)\r\n",
        "data_y=np.array(data_y)\r\n"
      ],
      "execution_count": null,
      "outputs": []
    },
    {
      "cell_type": "code",
      "metadata": {
        "id": "Eja61oxcVwxz"
      },
      "source": [
        "#STEP 2: initialising required parameters\r\n",
        "m = 1\r\n",
        "c = 1\r\n",
        "iter = 1\r\n",
        "epochs = 100\r\n",
        "alpha = 0.1\r\n",
        "ns = len(data)\r\n",
        "error = []\r\n",
        "vm = 0\r\n",
        "vc = 0\r\n",
        "moment = 0.9"
      ],
      "execution_count": null,
      "outputs": []
    },
    {
      "cell_type": "code",
      "metadata": {
        "id": "yAi2PtjsV3gY"
      },
      "source": [
        "import matplotlib.pyplot as plt"
      ],
      "execution_count": null,
      "outputs": []
    },
    {
      "cell_type": "code",
      "metadata": {
        "colab": {
          "base_uri": "https://localhost:8080/"
        },
        "id": "VFSv-MJ6V7Ql",
        "outputId": "afa8a772-b56f-4164-c07f-baa47e746de0"
      },
      "source": [
        "# while loop is runned until iter reaches epochs\r\n",
        "while (iter<=epochs):\r\n",
        "  # running for loop to calculate and update model parameters for each sample\r\n",
        "  for i in range(0,len(data)):\r\n",
        "\r\n",
        "    # calculating error and storing in an list\r\n",
        "    err = (0.5) * ((data_y[i] - (m * data_x[i]) - c))**2\r\n",
        "    error.append(err)\r\n",
        "\r\n",
        "    # calculating derivatives of m and c\r\n",
        "    der_m = (-1) * ((data_y[i] - (m * data_x[i]) - c ))*(data_x[i])\r\n",
        "    der_c = (-1) * (data_y[i] - (m * data_x[i]) - c )\r\n",
        "    # print(\"derivatives at \",i,\"   \",der_m,der_c)\r\n",
        "\r\n",
        "    # calculating change in m and c\r\n",
        "    vm = (moment * vm) - (alpha * der_m)\r\n",
        "    vc = (moment * vc) - (alpha * der_c)\r\n",
        "    # print(\"changes at \",i,vm,vc)\r\n",
        "\r\n",
        "    #updating m and c\r\n",
        "    m = m + vm\r\n",
        "    c = c + vc\r\n",
        "    # print(\"values at\",i,m,c)\r\n",
        "\r\n",
        "    #incrementing no of iterations\r\n",
        "  iter = iter + 1\r\n",
        " \r\n",
        "\r\n",
        "  \r\n",
        "print(m,c)\r\n",
        "\r\n"
      ],
      "execution_count": null,
      "outputs": [
        {
          "output_type": "stream",
          "text": [
            "2.0000000000451923 2.9999999987745483\n"
          ],
          "name": "stdout"
        }
      ]
    },
    {
      "cell_type": "code",
      "metadata": {
        "colab": {
          "base_uri": "https://localhost:8080/",
          "height": 295
        },
        "id": "M3saTIdbV_-V",
        "outputId": "3426f889-d316-44e9-80c9-173cbcb209ff"
      },
      "source": [
        "# plotting a graph no_of_iterations vs error\r\n",
        "iters = np.arange(epochs*len(data))\r\n",
        "plt.plot(iters,error,'-m',label=\"Error At particular Iteration\")\r\n",
        "plt.title(\"Error Analysis using Momentum Gradient Descent\")\r\n",
        "plt.legend(loc='upper right')\r\n",
        "plt.xlabel(\"Number of Iterations\")\r\n",
        "plt.ylabel(\"computed error rate\")\r\n",
        "plt.grid()\r\n"
      ],
      "execution_count": null,
      "outputs": [
        {
          "output_type": "display_data",
          "data": {
            "image/png": "[encoded data removed]",
            "text/plain": [
              "<Figure size 432x288 with 1 Axes>"
            ]
          },
          "metadata": {
            "tags": [],
            "needs_background": "light"
          }
        }
      ]
    },
    {
      "cell_type": "code",
      "metadata": {
        "colab": {
          "base_uri": "https://localhost:8080/"
        },
        "id": "yn-srTM1Z3D8",
        "outputId": "16153f86-b129-4200-fb5d-fde69c3687be"
      },
      "source": [
        "# computing mean squared error\r\n",
        "mse = 0\r\n",
        "for i in range(0,len(data_x)):\r\n",
        "  mse += (data_y[i] - (m*data_x[i]) - c)**2\r\n",
        "  print((data_y[i] - (m*data_x[i]) - c)**2)\r\n",
        "\r\n",
        "print(\"mse = \",mse)\r\n",
        "print(\" mse/4 \",mse/4)\r\n",
        "mse = mse/len(data)\r\n",
        "mse"
      ],
      "execution_count": null,
      "outputs": [
        {
          "output_type": "stream",
          "text": [
            "1.4796610546333097e-18\n",
            "1.4577535326818745e-18\n",
            "1.4360104657555167e-18\n",
            "1.414428660844862e-18\n",
            "mse =  5.787853713915563e-18\n",
            " mse/4  1.4469634284788907e-18\n"
          ],
          "name": "stdout"
        },
        {
          "output_type": "execute_result",
          "data": {
            "text/plain": [
              "1.4469634284788907e-18"
            ]
          },
          "metadata": {
            "tags": []
          },
          "execution_count": 221
        }
      ]
    },
    {
      "cell_type": "code",
      "metadata": {
        "colab": {
          "base_uri": "https://localhost:8080/"
        },
        "id": "25-ciRIZadIK",
        "outputId": "3a26eaa7-b2c4-49d2-dbc2-c3aa88b5e39f"
      },
      "source": [
        "\r\n",
        "\r\n",
        "# predictions of training data\r\n",
        "print(\"predicted\",\" original\")\r\n",
        "for i in range(0,len(data)):\r\n",
        "  print(round(m*data_x[i]+c,2),\"\\t  \",data_y[i])"
      ],
      "execution_count": null,
      "outputs": [
        {
          "output_type": "stream",
          "text": [
            "predicted  original\n",
            "3.4 \t   3.4\n",
            "3.8 \t   3.8\n",
            "4.2 \t   4.2\n",
            "4.6 \t   4.6\n"
          ],
          "name": "stdout"
        }
      ]
    },
    {
      "cell_type": "code",
      "metadata": {
        "id": "q4lCUkUbbn-i"
      },
      "source": [
        ""
      ],
      "execution_count": null,
      "outputs": []
    }
  ]
}