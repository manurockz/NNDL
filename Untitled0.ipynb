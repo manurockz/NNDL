{
  "nbformat": 4,
  "nbformat_minor": 0,
  "metadata": {
    "colab": {
      "name": "Untitled0.ipynb",
      "provenance": [],
      "collapsed_sections": []
    },
    "kernelspec": {
      "name": "python3",
      "display_name": "Python 3"
    }
  },
  "cells": [
    {
      "cell_type": "markdown",
      "metadata": {
        "id": "IjMq1CynP24p"
      },
      "source": [
        "<center><h1> PE ASSIGNMENT 1 </h1></center>\r\n",
        "    <center><h3>- 18K41A05H9</h3></center>"
      ]
    },
    {
      "cell_type": "code",
      "metadata": {
        "id": "enhpH-otFQ6V"
      },
      "source": [
        "# importing sympy package to simplify the process of computing first derivative of y\r\n",
        "from sympy import *"
      ],
      "execution_count": 29,
      "outputs": []
    },
    {
      "cell_type": "code",
      "metadata": {
        "colab": {
          "base_uri": "https://localhost:8080/"
        },
        "id": "oywPYuAPGO7A",
        "outputId": "b711900f-0487-4330-d742-c1cd8a7d132a"
      },
      "source": [
        "x = Symbol('x')\r\n",
        "\r\n",
        "#computing first derivative of equation and storing in variable y\r\n",
        "y = diff(x**4 + 3*x**2 + 10, x)\r\n",
        "print('derivative of y wrt x is ',y)"
      ],
      "execution_count": 30,
      "outputs": [
        {
          "output_type": "stream",
          "text": [
            "derivative of y wrt x is  4*x**3 + 6*x\n"
          ],
          "name": "stdout"
        }
      ]
    },
    {
      "cell_type": "code",
      "metadata": {
        "id": "qhc6sjePG1Rl"
      },
      "source": [
        "   # creating a function derive\r\n",
        "   # which accepts an parameter i.e x\r\n",
        "   # used to substitute provided x in derived equation and return computed value\r\n",
        "   def derive(xx):\r\n",
        "     x = symbols('x')\r\n",
        "     derivated = y.subs(x, xx) \r\n",
        "     derivated = round(derivated,2)\r\n",
        "     return derivated"
      ],
      "execution_count": 31,
      "outputs": []
    },
    {
      "cell_type": "code",
      "metadata": {
        "colab": {
          "base_uri": "https://localhost:8080/"
        },
        "id": "wnkmOzPdHT6H",
        "outputId": "50ef4504-f0a3-4b61-e46a-f477a3eda3fc"
      },
      "source": [
        "# initialising required parameters\r\n",
        "num_of_iters = 1\r\n",
        "epochs = 2\r\n",
        "neta = 0.1\r\n",
        "slope = 1\r\n",
        "\r\n",
        "# a for loop which runs from 1 to maximum number of iterations (used to find global minimum point)\r\n",
        "for i in range(1,epochs+1):\r\n",
        "  # invokes derive function and stores computed value in varible value\r\n",
        "  value = derive(slope)\r\n",
        "  # calculating change in x (delta_x)\r\n",
        "  change_in_x = (-1) * (neta) * (value)\r\n",
        "  # updating slope by adding change_in_x to slope\r\n",
        "  slope = slope + change_in_x\r\n",
        "\r\n",
        "print(slope)\r\n",
        "\r\n"
      ],
      "execution_count": 32,
      "outputs": [
        {
          "output_type": "stream",
          "text": [
            "0.0\n"
          ],
          "name": "stdout"
        }
      ]
    },
    {
      "cell_type": "code",
      "metadata": {
        "colab": {
          "base_uri": "https://localhost:8080/"
        },
        "id": "DZaDgv-YMDYw",
        "outputId": "28a81e82-0463-49a0-ef63-5e253a814854"
      },
      "source": [
        "# considering equation y \r\n",
        "eqn = x**4 + 3*x**2 + 10\r\n",
        "x = Symbol('x')\r\n",
        "# substituting final slope in equation and computing the global minimum point for given equation\r\n",
        "print(\"global minimum point obtained for given equation is :\",eqn.subs(x,slope))\r\n",
        "print(\"final slope obtained is :\",slope)"
      ],
      "execution_count": 33,
      "outputs": [
        {
          "output_type": "stream",
          "text": [
            "global minimum point obtained for given equation is : 10\n",
            "final slope obtained is : 0.0\n"
          ],
          "name": "stdout"
        }
      ]
    }
  ]
}